{
 "cells": [
  {
   "cell_type": "markdown",
   "metadata": {
    "id": "4p06IPOk5xil"
   },
   "source": [
    "# **응급상황 자동 인식 및 응급실 연계 서비스**\n",
    "# **단계1 : 응급상황 음성 인식 및 요약**"
   ]
  },
  {
   "cell_type": "markdown",
   "metadata": {
    "id": "HRuiqkZnuq94"
   },
   "source": [
    "## **0.미션**\n",
    "\n",
    "단계 1에서는, 응급상황의 음성을 인식해서 텍스트로 변환하고, 변환된 텍스트를 다시 요약 및 핵심키워드 도출 작업을 수행합니다.  \n",
    "이를 위해 사전학습된 모델을 API로 연결하여 활용합니다."
   ]
  },
  {
   "cell_type": "markdown",
   "metadata": {
    "id": "B-RC4OGVuq9-"
   },
   "source": [
    "### (1) 미션1\n",
    "* 음성인식 : STT(Speech-to-Text)\n",
    "    * 사용 모델 : OpenAI의 **Whisper-1**\n",
    "    * 제공받은 음성 파일과 새로 제작하는 5건 이상의 음성파일을 텍스트로 변환하고, 변환작업이 잘 되는지 확인해 봅시다."
   ]
  },
  {
   "cell_type": "markdown",
   "metadata": {
    "id": "hGGC3Ev4G9O8"
   },
   "source": [
    "### (2) 미션2\n",
    "* 텍스트 요약 및 핵심 키워드 도출\n",
    "    * 사용 모델 : OpenAI의 **GPT-3.5-turbo**\n",
    "    * 내용 요약과 주요 키워드를 도출하도록\n",
    "    프롬프트 입력과 출력을 구성하고 테스트 해 봅시다.\n",
    "\n",
    "* [추가]응급실 현황 다운로드(이 데이터는 단계3에서 필요합니다.)\n",
    "\n"
   ]
  },
  {
   "cell_type": "markdown",
   "metadata": {
    "id": "76Pw6f64d5VU"
   },
   "source": [
    "## **1.환경설정**"
   ]
  },
  {
   "cell_type": "markdown",
   "metadata": {
    "id": "1is0ZmzXeBrA"
   },
   "source": [
    "### (1) 경로 설정\n",
    "\n",
    "구글 드라이브 연결"
   ]
  },
  {
   "cell_type": "markdown",
   "metadata": {
    "id": "xUOpvAJGGJnL"
   },
   "source": [
    "#### 1) 구글 드라이브 폴더 생성\n",
    "* 새 폴더(project6_2)를 생성하고\n",
    "* 제공 받은 파일을 업로드"
   ]
  },
  {
   "cell_type": "markdown",
   "metadata": {
    "id": "4jUC5td4GLEF"
   },
   "source": [
    "#### 2) 구글 드라이브 연결"
   ]
  },
  {
   "cell_type": "code",
   "execution_count": null,
   "metadata": {
    "colab": {
     "base_uri": "https://localhost:8080/"
    },
    "executionInfo": {
     "elapsed": 19813,
     "status": "ok",
     "timestamp": 1730526079019,
     "user": {
      "displayName": "한기영",
      "userId": "13049187003176135487"
     },
     "user_tz": -540
    },
    "id": "_wX7xlPARSDj",
    "outputId": "faa25f0e-10d1-4243-f51d-819059ee22f1"
   },
   "outputs": [
    {
     "name": "stdout",
     "output_type": "stream",
     "text": [
      "Mounted at /content/drive\n"
     ]
    }
   ],
   "source": [
    "from google.colab import drive\n",
    "drive.mount('/content/drive')"
   ]
  },
  {
   "cell_type": "code",
   "execution_count": null,
   "metadata": {
    "id": "JhVujnYp4TJe"
   },
   "outputs": [],
   "source": [
    "path = '/content/drive/MyDrive/project6_2/'"
   ]
  },
  {
   "cell_type": "markdown",
   "metadata": {
    "id": "6aFiucu6evl_"
   },
   "source": [
    "### (2) 라이브러리"
   ]
  },
  {
   "cell_type": "markdown",
   "metadata": {
    "id": "06pvZvQPG4TO"
   },
   "source": [
    "#### 1) 필요한 라이브러리 설치"
   ]
  },
  {
   "cell_type": "markdown",
   "metadata": {
    "id": "9yH0bcskIzI3"
   },
   "source": [
    "* requirements.txt 파일의 [경로 복사]를 한 후,\n",
    "* 아래 경로에 붙여 넣기"
   ]
  },
  {
   "cell_type": "code",
   "execution_count": null,
   "metadata": {
    "colab": {
     "base_uri": "https://localhost:8080/"
    },
    "executionInfo": {
     "elapsed": 9038,
     "status": "ok",
     "timestamp": 1730526095163,
     "user": {
      "displayName": "한기영",
      "userId": "13049187003176135487"
     },
     "user_tz": -540
    },
    "id": "OQVcKO7iG38A",
    "outputId": "dd49f448-c7c5-4aa0-fcbf-424715af8b27"
   },
   "outputs": [
    {
     "name": "stdout",
     "output_type": "stream",
     "text": [
      "Requirement already satisfied: openai in /usr/local/lib/python3.10/dist-packages (from -r /content/drive/MyDrive/project6_2/requirements.txt (line 1)) (1.52.2)\n",
      "Collecting datasets (from -r /content/drive/MyDrive/project6_2/requirements.txt (line 2))\n",
      "  Downloading datasets-3.1.0-py3-none-any.whl.metadata (20 kB)\n",
      "Collecting haversine (from -r /content/drive/MyDrive/project6_2/requirements.txt (line 3))\n",
      "  Downloading haversine-2.8.1-py2.py3-none-any.whl.metadata (5.9 kB)\n",
      "Requirement already satisfied: anyio<5,>=3.5.0 in /usr/local/lib/python3.10/dist-packages (from openai->-r /content/drive/MyDrive/project6_2/requirements.txt (line 1)) (3.7.1)\n",
      "Requirement already satisfied: distro<2,>=1.7.0 in /usr/local/lib/python3.10/dist-packages (from openai->-r /content/drive/MyDrive/project6_2/requirements.txt (line 1)) (1.9.0)\n",
      "Requirement already satisfied: httpx<1,>=0.23.0 in /usr/local/lib/python3.10/dist-packages (from openai->-r /content/drive/MyDrive/project6_2/requirements.txt (line 1)) (0.27.2)\n",
      "Requirement already satisfied: jiter<1,>=0.4.0 in /usr/local/lib/python3.10/dist-packages (from openai->-r /content/drive/MyDrive/project6_2/requirements.txt (line 1)) (0.6.1)\n",
      "Requirement already satisfied: pydantic<3,>=1.9.0 in /usr/local/lib/python3.10/dist-packages (from openai->-r /content/drive/MyDrive/project6_2/requirements.txt (line 1)) (2.9.2)\n",
      "Requirement already satisfied: sniffio in /usr/local/lib/python3.10/dist-packages (from openai->-r /content/drive/MyDrive/project6_2/requirements.txt (line 1)) (1.3.1)\n",
      "Requirement already satisfied: tqdm>4 in /usr/local/lib/python3.10/dist-packages (from openai->-r /content/drive/MyDrive/project6_2/requirements.txt (line 1)) (4.66.6)\n",
      "Requirement already satisfied: typing-extensions<5,>=4.11 in /usr/local/lib/python3.10/dist-packages (from openai->-r /content/drive/MyDrive/project6_2/requirements.txt (line 1)) (4.12.2)\n",
      "Requirement already satisfied: filelock in /usr/local/lib/python3.10/dist-packages (from datasets->-r /content/drive/MyDrive/project6_2/requirements.txt (line 2)) (3.16.1)\n",
      "Requirement already satisfied: numpy>=1.17 in /usr/local/lib/python3.10/dist-packages (from datasets->-r /content/drive/MyDrive/project6_2/requirements.txt (line 2)) (1.26.4)\n",
      "Requirement already satisfied: pyarrow>=15.0.0 in /usr/local/lib/python3.10/dist-packages (from datasets->-r /content/drive/MyDrive/project6_2/requirements.txt (line 2)) (17.0.0)\n",
      "Collecting dill<0.3.9,>=0.3.0 (from datasets->-r /content/drive/MyDrive/project6_2/requirements.txt (line 2))\n",
      "  Downloading dill-0.3.8-py3-none-any.whl.metadata (10 kB)\n",
      "Requirement already satisfied: pandas in /usr/local/lib/python3.10/dist-packages (from datasets->-r /content/drive/MyDrive/project6_2/requirements.txt (line 2)) (2.2.2)\n",
      "Requirement already satisfied: requests>=2.32.2 in /usr/local/lib/python3.10/dist-packages (from datasets->-r /content/drive/MyDrive/project6_2/requirements.txt (line 2)) (2.32.3)\n",
      "Collecting xxhash (from datasets->-r /content/drive/MyDrive/project6_2/requirements.txt (line 2))\n",
      "  Downloading xxhash-3.5.0-cp310-cp310-manylinux_2_17_x86_64.manylinux2014_x86_64.whl.metadata (12 kB)\n",
      "Collecting multiprocess<0.70.17 (from datasets->-r /content/drive/MyDrive/project6_2/requirements.txt (line 2))\n",
      "  Downloading multiprocess-0.70.16-py310-none-any.whl.metadata (7.2 kB)\n",
      "Collecting fsspec<=2024.9.0,>=2023.1.0 (from fsspec[http]<=2024.9.0,>=2023.1.0->datasets->-r /content/drive/MyDrive/project6_2/requirements.txt (line 2))\n",
      "  Downloading fsspec-2024.9.0-py3-none-any.whl.metadata (11 kB)\n",
      "Requirement already satisfied: aiohttp in /usr/local/lib/python3.10/dist-packages (from datasets->-r /content/drive/MyDrive/project6_2/requirements.txt (line 2)) (3.10.10)\n",
      "Requirement already satisfied: huggingface-hub>=0.23.0 in /usr/local/lib/python3.10/dist-packages (from datasets->-r /content/drive/MyDrive/project6_2/requirements.txt (line 2)) (0.24.7)\n",
      "Requirement already satisfied: packaging in /usr/local/lib/python3.10/dist-packages (from datasets->-r /content/drive/MyDrive/project6_2/requirements.txt (line 2)) (24.1)\n",
      "Requirement already satisfied: pyyaml>=5.1 in /usr/local/lib/python3.10/dist-packages (from datasets->-r /content/drive/MyDrive/project6_2/requirements.txt (line 2)) (6.0.2)\n",
      "Requirement already satisfied: idna>=2.8 in /usr/local/lib/python3.10/dist-packages (from anyio<5,>=3.5.0->openai->-r /content/drive/MyDrive/project6_2/requirements.txt (line 1)) (3.10)\n",
      "Requirement already satisfied: exceptiongroup in /usr/local/lib/python3.10/dist-packages (from anyio<5,>=3.5.0->openai->-r /content/drive/MyDrive/project6_2/requirements.txt (line 1)) (1.2.2)\n",
      "Requirement already satisfied: aiohappyeyeballs>=2.3.0 in /usr/local/lib/python3.10/dist-packages (from aiohttp->datasets->-r /content/drive/MyDrive/project6_2/requirements.txt (line 2)) (2.4.3)\n",
      "Requirement already satisfied: aiosignal>=1.1.2 in /usr/local/lib/python3.10/dist-packages (from aiohttp->datasets->-r /content/drive/MyDrive/project6_2/requirements.txt (line 2)) (1.3.1)\n",
      "Requirement already satisfied: attrs>=17.3.0 in /usr/local/lib/python3.10/dist-packages (from aiohttp->datasets->-r /content/drive/MyDrive/project6_2/requirements.txt (line 2)) (24.2.0)\n",
      "Requirement already satisfied: frozenlist>=1.1.1 in /usr/local/lib/python3.10/dist-packages (from aiohttp->datasets->-r /content/drive/MyDrive/project6_2/requirements.txt (line 2)) (1.5.0)\n",
      "Requirement already satisfied: multidict<7.0,>=4.5 in /usr/local/lib/python3.10/dist-packages (from aiohttp->datasets->-r /content/drive/MyDrive/project6_2/requirements.txt (line 2)) (6.1.0)\n",
      "Requirement already satisfied: yarl<2.0,>=1.12.0 in /usr/local/lib/python3.10/dist-packages (from aiohttp->datasets->-r /content/drive/MyDrive/project6_2/requirements.txt (line 2)) (1.17.0)\n",
      "Requirement already satisfied: async-timeout<5.0,>=4.0 in /usr/local/lib/python3.10/dist-packages (from aiohttp->datasets->-r /content/drive/MyDrive/project6_2/requirements.txt (line 2)) (4.0.3)\n",
      "Requirement already satisfied: certifi in /usr/local/lib/python3.10/dist-packages (from httpx<1,>=0.23.0->openai->-r /content/drive/MyDrive/project6_2/requirements.txt (line 1)) (2024.8.30)\n",
      "Requirement already satisfied: httpcore==1.* in /usr/local/lib/python3.10/dist-packages (from httpx<1,>=0.23.0->openai->-r /content/drive/MyDrive/project6_2/requirements.txt (line 1)) (1.0.6)\n",
      "Requirement already satisfied: h11<0.15,>=0.13 in /usr/local/lib/python3.10/dist-packages (from httpcore==1.*->httpx<1,>=0.23.0->openai->-r /content/drive/MyDrive/project6_2/requirements.txt (line 1)) (0.14.0)\n",
      "Requirement already satisfied: annotated-types>=0.6.0 in /usr/local/lib/python3.10/dist-packages (from pydantic<3,>=1.9.0->openai->-r /content/drive/MyDrive/project6_2/requirements.txt (line 1)) (0.7.0)\n",
      "Requirement already satisfied: pydantic-core==2.23.4 in /usr/local/lib/python3.10/dist-packages (from pydantic<3,>=1.9.0->openai->-r /content/drive/MyDrive/project6_2/requirements.txt (line 1)) (2.23.4)\n",
      "Requirement already satisfied: charset-normalizer<4,>=2 in /usr/local/lib/python3.10/dist-packages (from requests>=2.32.2->datasets->-r /content/drive/MyDrive/project6_2/requirements.txt (line 2)) (3.4.0)\n",
      "Requirement already satisfied: urllib3<3,>=1.21.1 in /usr/local/lib/python3.10/dist-packages (from requests>=2.32.2->datasets->-r /content/drive/MyDrive/project6_2/requirements.txt (line 2)) (2.2.3)\n",
      "Requirement already satisfied: python-dateutil>=2.8.2 in /usr/local/lib/python3.10/dist-packages (from pandas->datasets->-r /content/drive/MyDrive/project6_2/requirements.txt (line 2)) (2.8.2)\n",
      "Requirement already satisfied: pytz>=2020.1 in /usr/local/lib/python3.10/dist-packages (from pandas->datasets->-r /content/drive/MyDrive/project6_2/requirements.txt (line 2)) (2024.2)\n",
      "Requirement already satisfied: tzdata>=2022.7 in /usr/local/lib/python3.10/dist-packages (from pandas->datasets->-r /content/drive/MyDrive/project6_2/requirements.txt (line 2)) (2024.2)\n",
      "Requirement already satisfied: six>=1.5 in /usr/local/lib/python3.10/dist-packages (from python-dateutil>=2.8.2->pandas->datasets->-r /content/drive/MyDrive/project6_2/requirements.txt (line 2)) (1.16.0)\n",
      "Requirement already satisfied: propcache>=0.2.0 in /usr/local/lib/python3.10/dist-packages (from yarl<2.0,>=1.12.0->aiohttp->datasets->-r /content/drive/MyDrive/project6_2/requirements.txt (line 2)) (0.2.0)\n",
      "Downloading datasets-3.1.0-py3-none-any.whl (480 kB)\n",
      "\u001b[2K   \u001b[90m━━━━━━━━━━━━━━━━━━━━━━━━━━━━━━━━━━━━━━━━\u001b[0m \u001b[32m480.6/480.6 kB\u001b[0m \u001b[31m16.2 MB/s\u001b[0m eta \u001b[36m0:00:00\u001b[0m\n",
      "\u001b[?25hDownloading haversine-2.8.1-py2.py3-none-any.whl (7.7 kB)\n",
      "Downloading dill-0.3.8-py3-none-any.whl (116 kB)\n",
      "\u001b[2K   \u001b[90m━━━━━━━━━━━━━━━━━━━━━━━━━━━━━━━━━━━━━━━━\u001b[0m \u001b[32m116.3/116.3 kB\u001b[0m \u001b[31m9.6 MB/s\u001b[0m eta \u001b[36m0:00:00\u001b[0m\n",
      "\u001b[?25hDownloading fsspec-2024.9.0-py3-none-any.whl (179 kB)\n",
      "\u001b[2K   \u001b[90m━━━━━━━━━━━━━━━━━━━━━━━━━━━━━━━━━━━━━━━━\u001b[0m \u001b[32m179.3/179.3 kB\u001b[0m \u001b[31m14.0 MB/s\u001b[0m eta \u001b[36m0:00:00\u001b[0m\n",
      "\u001b[?25hDownloading multiprocess-0.70.16-py310-none-any.whl (134 kB)\n",
      "\u001b[2K   \u001b[90m━━━━━━━━━━━━━━━━━━━━━━━━━━━━━━━━━━━━━━━━\u001b[0m \u001b[32m134.8/134.8 kB\u001b[0m \u001b[31m11.1 MB/s\u001b[0m eta \u001b[36m0:00:00\u001b[0m\n",
      "\u001b[?25hDownloading xxhash-3.5.0-cp310-cp310-manylinux_2_17_x86_64.manylinux2014_x86_64.whl (194 kB)\n",
      "\u001b[2K   \u001b[90m━━━━━━━━━━━━━━━━━━━━━━━━━━━━━━━━━━━━━━━━\u001b[0m \u001b[32m194.1/194.1 kB\u001b[0m \u001b[31m16.1 MB/s\u001b[0m eta \u001b[36m0:00:00\u001b[0m\n",
      "\u001b[?25hInstalling collected packages: xxhash, haversine, fsspec, dill, multiprocess, datasets\n",
      "  Attempting uninstall: fsspec\n",
      "    Found existing installation: fsspec 2024.10.0\n",
      "    Uninstalling fsspec-2024.10.0:\n",
      "      Successfully uninstalled fsspec-2024.10.0\n",
      "\u001b[31mERROR: pip's dependency resolver does not currently take into account all the packages that are installed. This behaviour is the source of the following dependency conflicts.\n",
      "gcsfs 2024.10.0 requires fsspec==2024.10.0, but you have fsspec 2024.9.0 which is incompatible.\u001b[0m\u001b[31m\n",
      "\u001b[0mSuccessfully installed datasets-3.1.0 dill-0.3.8 fsspec-2024.9.0 haversine-2.8.1 multiprocess-0.70.16 xxhash-3.5.0\n"
     ]
    }
   ],
   "source": [
    "# 경로 : /content/drive/MyDrive/project6_2/requirements.txt\n",
    "# 경로가 다른 경우 아래 코드의 경로 부분을 수정하세요.\n",
    "\n",
    "!pip install -r /content/drive/MyDrive/project6_2/requirements.txt"
   ]
  },
  {
   "cell_type": "markdown",
   "metadata": {
    "id": "xpXTO7gP4vyQ"
   },
   "source": [
    "#### 2) 라이브러리 로딩"
   ]
  },
  {
   "cell_type": "code",
   "execution_count": null,
   "metadata": {
    "id": "_bx5a2MBfAt2"
   },
   "outputs": [],
   "source": [
    "#필요한 라이브러리 설치 및 불러우기\n",
    "import os\n",
    "import requests\n",
    "import xml.etree.ElementTree as ET\n",
    "import pandas as pd\n",
    "import matplotlib.pyplot as plt\n",
    "import openai\n",
    "from openai import OpenAI\n",
    "import json\n",
    "\n",
    "# 더 필요한 라이브러리 추가 -------------\n",
    "\n",
    "\n"
   ]
  },
  {
   "cell_type": "markdown",
   "metadata": {
    "id": "PS5BhycUFUMI"
   },
   "source": [
    "### (3) OpenAI API Key 환경 변수 설정\n",
    "\n",
    "* 제공받은 open ai api key를 **api_key.txt** 파일에 저장합니다.\n",
    "    * (제공받은 api_key.txt 파일은 비어 있습니다.)"
   ]
  },
  {
   "cell_type": "markdown",
   "metadata": {
    "id": "KtujOwq45NgQ"
   },
   "source": [
    "* 다음 코드를 통해 환경변수로 등록 합니다."
   ]
  },
  {
   "cell_type": "code",
   "execution_count": null,
   "metadata": {
    "id": "AaZBGfeWNMRE"
   },
   "outputs": [],
   "source": [
    "def load_file(filepath):\n",
    "    with open(filepath, 'r') as file:\n",
    "        return file.readline().strip()\n",
    "\n",
    "# API 키 로드 및 환경변수 설정\n",
    "openai.api_key = load_file(path + 'api_key.txt')\n",
    "os.environ['OPENAI_API_KEY'] = openai.api_key"
   ]
  },
  {
   "cell_type": "markdown",
   "metadata": {
    "id": "0G1kftQbTuTc"
   },
   "source": [
    "* ⚠️ 아래 코드셀은, 실행해서 key가 제대로 보이는지 확인하고 결과는 삭제하세요."
   ]
  },
  {
   "cell_type": "code",
   "execution_count": null,
   "metadata": {
    "id": "GqSUhiv8wKxh"
   },
   "outputs": [],
   "source": [
    "print(os.environ['OPENAI_API_KEY'])"
   ]
  },
  {
   "cell_type": "markdown",
   "metadata": {
    "id": "emY7TgJFwrmf"
   },
   "source": [
    "## **2. 미션1 : STT**"
   ]
  },
  {
   "cell_type": "markdown",
   "metadata": {
    "id": "l4VEqdiaS6_K"
   },
   "source": [
    "### (1) 제공된 데이터 변환\n",
    "* 세부사항\n",
    "    * 사용 모델 : whisper-1\n",
    "    * 제공 받은 오디오 파일을 읽어서 텍스트로 변환시켜 봅시다.\n",
    "        * 반복문을 통해 파일 하나씩 읽어서 텍스트 변환\n",
    "        * 변환된 텍스트를 데이터 프레임에 추가\n",
    "\n",
    "|filename|text|\n",
    "|----|----|\n",
    "|audio3.mp3|어쩌구 저쩌구...급해요.|"
   ]
  },
  {
   "cell_type": "markdown",
   "metadata": {
    "id": "m82RFeKaYrn3"
   },
   "source": [
    "* 음성파일 변환"
   ]
  },
  {
   "cell_type": "code",
   "execution_count": null,
   "metadata": {
    "colab": {
     "base_uri": "https://localhost:8080/",
     "height": 35
    },
    "executionInfo": {
     "elapsed": 382,
     "status": "ok",
     "timestamp": 1730526110374,
     "user": {
      "displayName": "한기영",
      "userId": "13049187003176135487"
     },
     "user_tz": -540
    },
    "id": "noE0mrUkAhkW",
    "outputId": "74f33778-132d-4bf2-9b9a-915f58ea538d"
   },
   "outputs": [
    {
     "data": {
      "application/vnd.google.colaboratory.intrinsic+json": {
       "type": "string"
      },
      "text/plain": [
       "'/content/drive/MyDrive/project6_2/audio/'"
      ]
     },
     "execution_count": 9,
     "metadata": {},
     "output_type": "execute_result"
    }
   ],
   "source": [
    "# 음성파일 경로 지정\n",
    "audio_path = path + 'audio/'\n",
    "audio_path"
   ]
  },
  {
   "cell_type": "code",
   "execution_count": null,
   "metadata": {
    "collapsed": true,
    "id": "KHRaSiTgMYMt"
   },
   "outputs": [],
   "source": [
    "# OpenAI 클라이언트 생성\n",
    "client = OpenAI()"
   ]
  },
  {
   "cell_type": "code",
   "execution_count": null,
   "metadata": {
    "colab": {
     "base_uri": "https://localhost:8080/"
    },
    "executionInfo": {
     "elapsed": 2492,
     "status": "ok",
     "timestamp": 1730526116475,
     "user": {
      "displayName": "한기영",
      "userId": "13049187003176135487"
     },
     "user_tz": -540
    },
    "id": "ibnwMAkKNdH8",
    "outputId": "86fb5072-4470-4abb-8513-637157581199"
   },
   "outputs": [
    {
     "name": "stdout",
     "output_type": "stream",
     "text": [
      "119죠. 제가 지금 열이 열이 올랐어요. 몇 도냐면은 38도 정도 돼요. 머리가 아프고 좀 띵한 것 같아요. 우한이 좀 들어요. 어떻게 해야 할까요?\n",
      " <class 'str'>\n"
     ]
    }
   ],
   "source": [
    "# 위스퍼 모델 사용\n",
    "filename = 'audio2.mp3'\n",
    "audio_file = open(audio_path + filename, \"rb\")\n",
    "transcript = client.audio.transcriptions.create(\n",
    "    file=audio_file,\n",
    "    model=\"whisper-1\",\n",
    "    language=\"ko\",\n",
    "    response_format=\"text\",\n",
    "    temperature=0.0\n",
    ")\n",
    "\n",
    "print(transcript, type(transcript))"
   ]
  },
  {
   "cell_type": "markdown",
   "metadata": {
    "id": "5Aey07RNYuKg"
   },
   "source": [
    "* 음성파일 변환 함수 생성"
   ]
  },
  {
   "cell_type": "code",
   "execution_count": null,
   "metadata": {
    "id": "IFYtouSsn4AI"
   },
   "outputs": [],
   "source": [
    "def audio_to_text(audio_path, filename):\n",
    "    client = OpenAI()\n",
    "    audio_file = open(audio_path + filename, \"rb\")\n",
    "    transcript = client.audio.transcriptions.create(\n",
    "        file=audio_file,\n",
    "        model=\"whisper-1\",\n",
    "        language=\"ko\",\n",
    "        response_format=\"text\",\n",
    "        temperature=0.0\n",
    ")\n",
    "    return transcript"
   ]
  },
  {
   "cell_type": "code",
   "execution_count": null,
   "metadata": {
    "colab": {
     "base_uri": "https://localhost:8080/"
    },
    "executionInfo": {
     "elapsed": 545,
     "status": "ok",
     "timestamp": 1730526179836,
     "user": {
      "displayName": "한기영",
      "userId": "13049187003176135487"
     },
     "user_tz": -540
    },
    "id": "I0wH7MxQTTWV",
    "outputId": "b3eda5e9-39fa-4715-c428-b990e3bd6948"
   },
   "outputs": [
    {
     "name": "stdout",
     "output_type": "stream",
     "text": [
      "['audio3.mp3', 'audio1.mp3', 'audio5.mp3', 'audio4.mp3', 'audio2.mp3']\n"
     ]
    }
   ],
   "source": [
    "# 음성파일 이름을 리스트에 담기\n",
    "file_names = [f for f in os.listdir(audio_path) if os.path.isfile(os.path.join(audio_path, f))]\n",
    "print(file_names)"
   ]
  },
  {
   "cell_type": "code",
   "execution_count": null,
   "metadata": {
    "colab": {
     "base_uri": "https://localhost:8080/",
     "height": 298
    },
    "executionInfo": {
     "elapsed": 9621,
     "status": "ok",
     "timestamp": 1730526191093,
     "user": {
      "displayName": "한기영",
      "userId": "13049187003176135487"
     },
     "user_tz": -540
    },
    "id": "2CZZovDCSmNc",
    "outputId": "85eedac3-2009-446e-ea63-c9eed9c067d3"
   },
   "outputs": [
    {
     "name": "stdout",
     "output_type": "stream",
     "text": [
      "audio3.mp3\n",
      "audio1.mp3\n",
      "audio5.mp3\n",
      "audio4.mp3\n",
      "audio2.mp3\n"
     ]
    },
    {
     "data": {
      "application/vnd.google.colaboratory.intrinsic+json": {
       "summary": "{\n  \"name\": \"result\",\n  \"rows\": 5,\n  \"fields\": [\n    {\n      \"column\": \"filename\",\n      \"properties\": {\n        \"dtype\": \"string\",\n        \"num_unique_values\": 5,\n        \"samples\": [\n          \"audio1.mp3\",\n          \"audio2.mp3\",\n          \"audio5.mp3\"\n        ],\n        \"semantic_type\": \"\",\n        \"description\": \"\"\n      }\n    },\n    {\n      \"column\": \"text\",\n      \"properties\": {\n        \"dtype\": \"string\",\n        \"num_unique_values\": 5,\n        \"samples\": [\n          \"\\uc9c0\\uae08 \\uc544\\ube60\\uac00 \\ub118\\uc5b4\\uc84c\\uc5b4\\uc694. \\uba38\\ub9ac\\uc5d0\\uc11c \\ud53c\\uac00 \\ub098\\ub294\\ub370 \\uc228\\uc740 \\uc26c\\uace0 \\uc788\\uc5b4\\uc694. \\uc9c0\\uae08 \\ub9c9 \\uc77c\\uc5b4\\ub0ac\\uc5b4\\uc694. \\uadfc\\ub370 \\uc870\\uae08 \\uc5b4\\uc9c0\\ub7fd\\ub2e4\\uace0 \\ud558\\ub124\\uc694. \\ub124\\ub124 \\uacc4\\ub2e8\\uc5d0\\uc11c \\uad74\\ub800\\uc5b4\\uc694. \\uc9c0\\uae08\\uc740 \\ubb3c \\ub9c8\\uc2dc\\uace0 \\uc788\\ub294\\ub370 \\uc774\\uac70 \\uc751\\uae09\\uc2e4\\ub85c \\uac00\\ubd10\\uc57c \\ud560\\uae4c\\uc694? \\ud53c\\ub3c4 \\uc9c0\\uae08 \\uba38\\uc84c\\uc5b4\\uc694. \\ub124\\ub124 \\ub098\\uc774\\ub294 \\ub9c8\\ud754\\uc544\\ud649 \\uc0b4 \\uc774\\uc138\\uc694. \\uc5b4\\ub5bb\\uac8c \\ud574\\uc57c \\ud560\\uc9c0 \\ubaa8\\ub974\\uaca0\\uc5b4\\uc694.\\n\",\n          \"119\\uc8e0. \\uc81c\\uac00 \\uc9c0\\uae08 \\uc5f4\\uc774 \\uc5f4\\uc774 \\uc62c\\ub790\\uc5b4\\uc694. \\uba87 \\ub3c4\\ub0d0\\uba74\\uc740 38\\ub3c4 \\uc815\\ub3c4 \\ub3fc\\uc694. \\uba38\\ub9ac\\uac00 \\uc544\\ud504\\uace0 \\uc880 \\ub775\\ud55c \\uac83 \\uac19\\uc544\\uc694. \\uc6b0\\ud55c\\uc774 \\uc880 \\ub4e4\\uc5b4\\uc694. \\uc5b4\\ub5bb\\uac8c \\ud574\\uc57c \\ud560\\uae4c\\uc694?\\n\",\n          \"\\ud654\\uc7a5\\uc2e4\\uc5d0\\uc11c \\ubbf8\\ub044\\ub7ec\\uc6cc\\uc11c \\uc5c9\\ub369\\ubc29\\uc544\\ub97c \\ucc0d\\uc5c8\\uc5b4\\uc694. \\uadf8\\ub7ec\\uace0 \\uaf2c\\ub9ac\\ubf08\\uac00 \\uacc4\\uc18d \\uc544\\ud30c\\uc694. \\uc810\\uc810 \\uc544\\ud508 \\uac83 \\uac19\\uc740\\ub370 \\uc751\\uae09\\uc2e4\\uc744 \\uac00\\uc57c \\ud560\\uae4c\\uc694?\\n\"\n        ],\n        \"semantic_type\": \"\",\n        \"description\": \"\"\n      }\n    }\n  ]\n}",
       "type": "dataframe",
       "variable_name": "result"
      },
      "text/html": [
       "\n",
       "  <div id=\"df-05236841-2ec2-4fc7-ba00-af1ca5b09de2\" class=\"colab-df-container\">\n",
       "    <div>\n",
       "<style scoped>\n",
       "    .dataframe tbody tr th:only-of-type {\n",
       "        vertical-align: middle;\n",
       "    }\n",
       "\n",
       "    .dataframe tbody tr th {\n",
       "        vertical-align: top;\n",
       "    }\n",
       "\n",
       "    .dataframe thead th {\n",
       "        text-align: right;\n",
       "    }\n",
       "</style>\n",
       "<table border=\"1\" class=\"dataframe\">\n",
       "  <thead>\n",
       "    <tr style=\"text-align: right;\">\n",
       "      <th></th>\n",
       "      <th>filename</th>\n",
       "      <th>text</th>\n",
       "    </tr>\n",
       "  </thead>\n",
       "  <tbody>\n",
       "    <tr>\n",
       "      <th>0</th>\n",
       "      <td>audio3.mp3</td>\n",
       "      <td>동생이 콩 가지고 놀다가 코에 들어가서 한쪽 코가 막혔어요. 아무리 빼보려 해도 안...</td>\n",
       "    </tr>\n",
       "    <tr>\n",
       "      <th>1</th>\n",
       "      <td>audio1.mp3</td>\n",
       "      <td>지금 아빠가 넘어졌어요. 머리에서 피가 나는데 숨은 쉬고 있어요. 지금 막 일어났어...</td>\n",
       "    </tr>\n",
       "    <tr>\n",
       "      <th>2</th>\n",
       "      <td>audio5.mp3</td>\n",
       "      <td>화장실에서 미끄러워서 엉덩방아를 찍었어요. 그러고 꼬리뼈가 계속 아파요. 점점 아픈...</td>\n",
       "    </tr>\n",
       "    <tr>\n",
       "      <th>3</th>\n",
       "      <td>audio4.mp3</td>\n",
       "      <td>아까 가다가 머리를 박았는데, 처음에는 괜찮다가, 지금 3시간 정도 지났는데, 머리...</td>\n",
       "    </tr>\n",
       "    <tr>\n",
       "      <th>4</th>\n",
       "      <td>audio2.mp3</td>\n",
       "      <td>119죠. 제가 지금 열이 열이 올랐어요. 몇 도냐면은 38도 정도 돼요. 머리가 ...</td>\n",
       "    </tr>\n",
       "  </tbody>\n",
       "</table>\n",
       "</div>\n",
       "    <div class=\"colab-df-buttons\">\n",
       "\n",
       "  <div class=\"colab-df-container\">\n",
       "    <button class=\"colab-df-convert\" onclick=\"convertToInteractive('df-05236841-2ec2-4fc7-ba00-af1ca5b09de2')\"\n",
       "            title=\"Convert this dataframe to an interactive table.\"\n",
       "            style=\"display:none;\">\n",
       "\n",
       "  <svg xmlns=\"http://www.w3.org/2000/svg\" height=\"24px\" viewBox=\"0 -960 960 960\">\n",
       "    <path d=\"M120-120v-720h720v720H120Zm60-500h600v-160H180v160Zm220 220h160v-160H400v160Zm0 220h160v-160H400v160ZM180-400h160v-160H180v160Zm440 0h160v-160H620v160ZM180-180h160v-160H180v160Zm440 0h160v-160H620v160Z\"/>\n",
       "  </svg>\n",
       "    </button>\n",
       "\n",
       "  <style>\n",
       "    .colab-df-container {\n",
       "      display:flex;\n",
       "      gap: 12px;\n",
       "    }\n",
       "\n",
       "    .colab-df-convert {\n",
       "      background-color: #E8F0FE;\n",
       "      border: none;\n",
       "      border-radius: 50%;\n",
       "      cursor: pointer;\n",
       "      display: none;\n",
       "      fill: #1967D2;\n",
       "      height: 32px;\n",
       "      padding: 0 0 0 0;\n",
       "      width: 32px;\n",
       "    }\n",
       "\n",
       "    .colab-df-convert:hover {\n",
       "      background-color: #E2EBFA;\n",
       "      box-shadow: 0px 1px 2px rgba(60, 64, 67, 0.3), 0px 1px 3px 1px rgba(60, 64, 67, 0.15);\n",
       "      fill: #174EA6;\n",
       "    }\n",
       "\n",
       "    .colab-df-buttons div {\n",
       "      margin-bottom: 4px;\n",
       "    }\n",
       "\n",
       "    [theme=dark] .colab-df-convert {\n",
       "      background-color: #3B4455;\n",
       "      fill: #D2E3FC;\n",
       "    }\n",
       "\n",
       "    [theme=dark] .colab-df-convert:hover {\n",
       "      background-color: #434B5C;\n",
       "      box-shadow: 0px 1px 3px 1px rgba(0, 0, 0, 0.15);\n",
       "      filter: drop-shadow(0px 1px 2px rgba(0, 0, 0, 0.3));\n",
       "      fill: #FFFFFF;\n",
       "    }\n",
       "  </style>\n",
       "\n",
       "    <script>\n",
       "      const buttonEl =\n",
       "        document.querySelector('#df-05236841-2ec2-4fc7-ba00-af1ca5b09de2 button.colab-df-convert');\n",
       "      buttonEl.style.display =\n",
       "        google.colab.kernel.accessAllowed ? 'block' : 'none';\n",
       "\n",
       "      async function convertToInteractive(key) {\n",
       "        const element = document.querySelector('#df-05236841-2ec2-4fc7-ba00-af1ca5b09de2');\n",
       "        const dataTable =\n",
       "          await google.colab.kernel.invokeFunction('convertToInteractive',\n",
       "                                                    [key], {});\n",
       "        if (!dataTable) return;\n",
       "\n",
       "        const docLinkHtml = 'Like what you see? Visit the ' +\n",
       "          '<a target=\"_blank\" href=https://colab.research.google.com/notebooks/data_table.ipynb>data table notebook</a>'\n",
       "          + ' to learn more about interactive tables.';\n",
       "        element.innerHTML = '';\n",
       "        dataTable['output_type'] = 'display_data';\n",
       "        await google.colab.output.renderOutput(dataTable, element);\n",
       "        const docLink = document.createElement('div');\n",
       "        docLink.innerHTML = docLinkHtml;\n",
       "        element.appendChild(docLink);\n",
       "      }\n",
       "    </script>\n",
       "  </div>\n",
       "\n",
       "\n",
       "<div id=\"df-aa27ac05-4fae-4b7a-8d13-4560bb3d574d\">\n",
       "  <button class=\"colab-df-quickchart\" onclick=\"quickchart('df-aa27ac05-4fae-4b7a-8d13-4560bb3d574d')\"\n",
       "            title=\"Suggest charts\"\n",
       "            style=\"display:none;\">\n",
       "\n",
       "<svg xmlns=\"http://www.w3.org/2000/svg\" height=\"24px\"viewBox=\"0 0 24 24\"\n",
       "     width=\"24px\">\n",
       "    <g>\n",
       "        <path d=\"M19 3H5c-1.1 0-2 .9-2 2v14c0 1.1.9 2 2 2h14c1.1 0 2-.9 2-2V5c0-1.1-.9-2-2-2zM9 17H7v-7h2v7zm4 0h-2V7h2v10zm4 0h-2v-4h2v4z\"/>\n",
       "    </g>\n",
       "</svg>\n",
       "  </button>\n",
       "\n",
       "<style>\n",
       "  .colab-df-quickchart {\n",
       "      --bg-color: #E8F0FE;\n",
       "      --fill-color: #1967D2;\n",
       "      --hover-bg-color: #E2EBFA;\n",
       "      --hover-fill-color: #174EA6;\n",
       "      --disabled-fill-color: #AAA;\n",
       "      --disabled-bg-color: #DDD;\n",
       "  }\n",
       "\n",
       "  [theme=dark] .colab-df-quickchart {\n",
       "      --bg-color: #3B4455;\n",
       "      --fill-color: #D2E3FC;\n",
       "      --hover-bg-color: #434B5C;\n",
       "      --hover-fill-color: #FFFFFF;\n",
       "      --disabled-bg-color: #3B4455;\n",
       "      --disabled-fill-color: #666;\n",
       "  }\n",
       "\n",
       "  .colab-df-quickchart {\n",
       "    background-color: var(--bg-color);\n",
       "    border: none;\n",
       "    border-radius: 50%;\n",
       "    cursor: pointer;\n",
       "    display: none;\n",
       "    fill: var(--fill-color);\n",
       "    height: 32px;\n",
       "    padding: 0;\n",
       "    width: 32px;\n",
       "  }\n",
       "\n",
       "  .colab-df-quickchart:hover {\n",
       "    background-color: var(--hover-bg-color);\n",
       "    box-shadow: 0 1px 2px rgba(60, 64, 67, 0.3), 0 1px 3px 1px rgba(60, 64, 67, 0.15);\n",
       "    fill: var(--button-hover-fill-color);\n",
       "  }\n",
       "\n",
       "  .colab-df-quickchart-complete:disabled,\n",
       "  .colab-df-quickchart-complete:disabled:hover {\n",
       "    background-color: var(--disabled-bg-color);\n",
       "    fill: var(--disabled-fill-color);\n",
       "    box-shadow: none;\n",
       "  }\n",
       "\n",
       "  .colab-df-spinner {\n",
       "    border: 2px solid var(--fill-color);\n",
       "    border-color: transparent;\n",
       "    border-bottom-color: var(--fill-color);\n",
       "    animation:\n",
       "      spin 1s steps(1) infinite;\n",
       "  }\n",
       "\n",
       "  @keyframes spin {\n",
       "    0% {\n",
       "      border-color: transparent;\n",
       "      border-bottom-color: var(--fill-color);\n",
       "      border-left-color: var(--fill-color);\n",
       "    }\n",
       "    20% {\n",
       "      border-color: transparent;\n",
       "      border-left-color: var(--fill-color);\n",
       "      border-top-color: var(--fill-color);\n",
       "    }\n",
       "    30% {\n",
       "      border-color: transparent;\n",
       "      border-left-color: var(--fill-color);\n",
       "      border-top-color: var(--fill-color);\n",
       "      border-right-color: var(--fill-color);\n",
       "    }\n",
       "    40% {\n",
       "      border-color: transparent;\n",
       "      border-right-color: var(--fill-color);\n",
       "      border-top-color: var(--fill-color);\n",
       "    }\n",
       "    60% {\n",
       "      border-color: transparent;\n",
       "      border-right-color: var(--fill-color);\n",
       "    }\n",
       "    80% {\n",
       "      border-color: transparent;\n",
       "      border-right-color: var(--fill-color);\n",
       "      border-bottom-color: var(--fill-color);\n",
       "    }\n",
       "    90% {\n",
       "      border-color: transparent;\n",
       "      border-bottom-color: var(--fill-color);\n",
       "    }\n",
       "  }\n",
       "</style>\n",
       "\n",
       "  <script>\n",
       "    async function quickchart(key) {\n",
       "      const quickchartButtonEl =\n",
       "        document.querySelector('#' + key + ' button');\n",
       "      quickchartButtonEl.disabled = true;  // To prevent multiple clicks.\n",
       "      quickchartButtonEl.classList.add('colab-df-spinner');\n",
       "      try {\n",
       "        const charts = await google.colab.kernel.invokeFunction(\n",
       "            'suggestCharts', [key], {});\n",
       "      } catch (error) {\n",
       "        console.error('Error during call to suggestCharts:', error);\n",
       "      }\n",
       "      quickchartButtonEl.classList.remove('colab-df-spinner');\n",
       "      quickchartButtonEl.classList.add('colab-df-quickchart-complete');\n",
       "    }\n",
       "    (() => {\n",
       "      let quickchartButtonEl =\n",
       "        document.querySelector('#df-aa27ac05-4fae-4b7a-8d13-4560bb3d574d button');\n",
       "      quickchartButtonEl.style.display =\n",
       "        google.colab.kernel.accessAllowed ? 'block' : 'none';\n",
       "    })();\n",
       "  </script>\n",
       "</div>\n",
       "\n",
       "  <div id=\"id_f65626df-11b9-4ec6-92ff-9333dc9ceb52\">\n",
       "    <style>\n",
       "      .colab-df-generate {\n",
       "        background-color: #E8F0FE;\n",
       "        border: none;\n",
       "        border-radius: 50%;\n",
       "        cursor: pointer;\n",
       "        display: none;\n",
       "        fill: #1967D2;\n",
       "        height: 32px;\n",
       "        padding: 0 0 0 0;\n",
       "        width: 32px;\n",
       "      }\n",
       "\n",
       "      .colab-df-generate:hover {\n",
       "        background-color: #E2EBFA;\n",
       "        box-shadow: 0px 1px 2px rgba(60, 64, 67, 0.3), 0px 1px 3px 1px rgba(60, 64, 67, 0.15);\n",
       "        fill: #174EA6;\n",
       "      }\n",
       "\n",
       "      [theme=dark] .colab-df-generate {\n",
       "        background-color: #3B4455;\n",
       "        fill: #D2E3FC;\n",
       "      }\n",
       "\n",
       "      [theme=dark] .colab-df-generate:hover {\n",
       "        background-color: #434B5C;\n",
       "        box-shadow: 0px 1px 3px 1px rgba(0, 0, 0, 0.15);\n",
       "        filter: drop-shadow(0px 1px 2px rgba(0, 0, 0, 0.3));\n",
       "        fill: #FFFFFF;\n",
       "      }\n",
       "    </style>\n",
       "    <button class=\"colab-df-generate\" onclick=\"generateWithVariable('result')\"\n",
       "            title=\"Generate code using this dataframe.\"\n",
       "            style=\"display:none;\">\n",
       "\n",
       "  <svg xmlns=\"http://www.w3.org/2000/svg\" height=\"24px\"viewBox=\"0 0 24 24\"\n",
       "       width=\"24px\">\n",
       "    <path d=\"M7,19H8.4L18.45,9,17,7.55,7,17.6ZM5,21V16.75L18.45,3.32a2,2,0,0,1,2.83,0l1.4,1.43a1.91,1.91,0,0,1,.58,1.4,1.91,1.91,0,0,1-.58,1.4L9.25,21ZM18.45,9,17,7.55Zm-12,3A5.31,5.31,0,0,0,4.9,8.1,5.31,5.31,0,0,0,1,6.5,5.31,5.31,0,0,0,4.9,4.9,5.31,5.31,0,0,0,6.5,1,5.31,5.31,0,0,0,8.1,4.9,5.31,5.31,0,0,0,12,6.5,5.46,5.46,0,0,0,6.5,12Z\"/>\n",
       "  </svg>\n",
       "    </button>\n",
       "    <script>\n",
       "      (() => {\n",
       "      const buttonEl =\n",
       "        document.querySelector('#id_f65626df-11b9-4ec6-92ff-9333dc9ceb52 button.colab-df-generate');\n",
       "      buttonEl.style.display =\n",
       "        google.colab.kernel.accessAllowed ? 'block' : 'none';\n",
       "\n",
       "      buttonEl.onclick = () => {\n",
       "        google.colab.notebook.generateWithVariable('result');\n",
       "      }\n",
       "      })();\n",
       "    </script>\n",
       "  </div>\n",
       "\n",
       "    </div>\n",
       "  </div>\n"
      ],
      "text/plain": [
       "     filename                                               text\n",
       "0  audio3.mp3  동생이 콩 가지고 놀다가 코에 들어가서 한쪽 코가 막혔어요. 아무리 빼보려 해도 안...\n",
       "1  audio1.mp3  지금 아빠가 넘어졌어요. 머리에서 피가 나는데 숨은 쉬고 있어요. 지금 막 일어났어...\n",
       "2  audio5.mp3  화장실에서 미끄러워서 엉덩방아를 찍었어요. 그러고 꼬리뼈가 계속 아파요. 점점 아픈...\n",
       "3  audio4.mp3  아까 가다가 머리를 박았는데, 처음에는 괜찮다가, 지금 3시간 정도 지났는데, 머리...\n",
       "4  audio2.mp3  119죠. 제가 지금 열이 열이 올랐어요. 몇 도냐면은 38도 정도 돼요. 머리가 ..."
      ]
     },
     "execution_count": 15,
     "metadata": {},
     "output_type": "execute_result"
    }
   ],
   "source": [
    "# 반복문을 통해, 파일 하나씩 읽어서 텍스트 변환, 변환된 텍스트를 데이터 프레임에 추가\n",
    "\n",
    "# 빈 데이터프레임 선언\n",
    "result = pd.DataFrame(columns=['filename', 'text'])\n",
    "\n",
    "# 반복문 수행하면서 오디오 변환\n",
    "for i, filename in enumerate(file_names):\n",
    "    transcript = audio_to_text(audio_path, filename)\n",
    "    # 데이터 프레임에 추가 : filename, text\n",
    "    temp = pd.DataFrame([{'filename': filename, 'text': transcript}])\n",
    "    result = pd.concat([result, temp])\n",
    "    print(filename)\n",
    "\n",
    "result.reset_index(drop=True, inplace=True)\n",
    "result"
   ]
  },
  {
   "cell_type": "markdown",
   "metadata": {
    "id": "IUa74E7ZfQQ_"
   },
   "source": [
    "### (2) 오디오 데이터 추가 수집(제작) 및 변환\n",
    "\n",
    "* 세부사항\n",
    "    * 응급 상황에 맞는 음성 녹음하기\n",
    "        * 응급 등급별 1개 이상씩(총 5개 이상)\n",
    "    * 반복문을 통해 모든 음성 파일 데이터 변환 : STT\n",
    "        * 변환 내용은 위에서 저장한 데이터프레임에 추가\n",
    "    * 변환 후 음성 내용과 변환 결과를 비교\n"
   ]
  },
  {
   "cell_type": "code",
   "execution_count": null,
   "metadata": {
    "id": "lJy0EV-nfQja"
   },
   "outputs": [],
   "source": []
  },
  {
   "cell_type": "code",
   "execution_count": null,
   "metadata": {
    "id": "Q51noIMUfQzM"
   },
   "outputs": [],
   "source": []
  },
  {
   "cell_type": "code",
   "execution_count": null,
   "metadata": {
    "id": "2cYxVvVVfQpc"
   },
   "outputs": [],
   "source": []
  },
  {
   "cell_type": "code",
   "execution_count": null,
   "metadata": {
    "id": "lTEKap9IfQnL"
   },
   "outputs": [],
   "source": []
  },
  {
   "cell_type": "markdown",
   "metadata": {
    "id": "GL1VaDQxNT4B"
   },
   "source": [
    "## **3. 미션2 : Summary**"
   ]
  },
  {
   "cell_type": "markdown",
   "metadata": {
    "id": "7G7sHQ3rgVvQ"
   },
   "source": [
    "* 세부사항\n",
    "    * 문서요약 예제 파일을 참조하여 테스트 해 봅니다.\n",
    "    * 코드를 참조하여, 원하는 형식에 맞게 요약이 되도록 프롬프트를 구성합니다.\n",
    "        * 요약 시 중요 키워드들이 함께 도출되도록 합니다.\n",
    "        * 가능하다면, 요약 문장 길이에 제한을 둡시다.\n",
    "    * 반복문을 통해 요약하고, 결과를 데이터프레임에 추가합니다.\n",
    "        * summary 열을 추가하고, 요약 결과를 입력\n",
    "            * 요약결과와 키워드는 하나의 문자열로 붙여서 summary열에 추가"
   ]
  },
  {
   "cell_type": "markdown",
   "metadata": {
    "id": "sSI7l5O2yBj_"
   },
   "source": [
    "### (1) 문서 요약"
   ]
  },
  {
   "cell_type": "markdown",
   "metadata": {
    "id": "5Ihl3Snslpcs"
   },
   "source": [
    "* 문서 요약 예제"
   ]
  },
  {
   "cell_type": "code",
   "execution_count": null,
   "metadata": {
    "colab": {
     "base_uri": "https://localhost:8080/"
    },
    "executionInfo": {
     "elapsed": 2369,
     "status": "ok",
     "timestamp": 1730179710431,
     "user": {
      "displayName": "한기영",
      "userId": "13049187003176135487"
     },
     "user_tz": -540
    },
    "id": "3J6nqyp0jQ2q",
    "outputId": "61004d5a-7ba8-4aa9-99de-aa8a56f0b478"
   },
   "outputs": [
    {
     "name": "stdout",
     "output_type": "stream",
     "text": [
      "{'summary': \"한국은행 총재는 올해 성장률이 2.4%보다 낮아질 가능성이 있으며, 2.2∼2.3%로 예상된다고 밝혔다. 성장률 하락의 요인으로는 수출 감소와 관련된 일시적 요인과 중국과의 경쟁이 있는 것으로 보고 있다. 기준금리 결정 방향은 미국 대선, 연방준비제도의 결정 등 다양한 변수를 고려하여 결정할 것이라고 밝혔다.\", \n",
      "'keyword': \"한국은행, 총재, 성장률\"}\n"
     ]
    }
   ],
   "source": [
    "input_text = '''\n",
    "한국은행 총재가 \"올해 성장률이 기존 전망치 2.4%보다 낮아질 가능성이 크다\"며 \"2.2∼2.3% 정도로 떨어지지 않을까 생각한다\"고 밝혔습니다.\n",
    "이 총재는 오늘(29일) 국회 기획재정위원회 국정감사에 출석해 한은의 전망을 크게 밑돈 3분기 성장률을 바탕으로 올해 성장률 전망치가 조정될 가능성에 대해 이렇게 말했습니다.\n",
    "성장률 하락의 가장 큰 요인인 수출 감소의 배경에 대해 이 총재는 \"금액 기준으로 봐서는 수출이 안 떨어졌는데, 수량을 기준으로 떨어졌다\"며 \"자동차 파업 등 일시적 요인과 화학제품·반도체의 중국과 경쟁 등으로 수량이 안 늘어나는 것 같은데, 원인을 더 분석해봐야 할 사안\"이라고 진단했습니다.\n",
    "다음 달 28일 열릴 기준금리 결정 방향에 대해서는 \"금리 결정할 때 하나의 변수만 보지 않고 종합적으로 보는데, 우선 미국 대선과 연방준비제도 금리 결정으로 경제 상황이 어떻게 변할지 보겠다\"고 밝혔습니다.\n",
    "또 \"아울러 이후 달러가 어떻게 될지, 수출 등 내년 경제 전망과 거시안전성 정책이 부동산·가계부채에 미치는 영향 등도 고려해 결정하겠다\"고 말했습니다.\n",
    "'''\n",
    "\n",
    "system_role = '''당신은 신문기사에서 핵심을 요약하는 어시스턴트입니다.\n",
    "응답은 다음의 형식을 지켜주세요\n",
    "{\"summary\": \\\"텍스트 요약\\\",\n",
    "\"keyword\" : \\\"핵심 키워드(3가지)\\\"}\n",
    "'''\n",
    "\n",
    "response = client.chat.completions.create(\n",
    "    model=\"gpt-3.5-turbo\",\n",
    "    messages=[\n",
    "        {\n",
    "            \"role\": \"system\",\n",
    "            \"content\": system_role\n",
    "        },\n",
    "        {\n",
    "            \"role\": \"user\",\n",
    "            \"content\": input_text\n",
    "        }\n",
    "    ]\n",
    ")\n",
    "\n",
    "answer = response.choices[0].message.content\n",
    "print(answer)"
   ]
  },
  {
   "cell_type": "markdown",
   "metadata": {
    "id": "4-tmXUmNZ7Iq"
   },
   "source": [
    "* 문서 요약 함수로 생성"
   ]
  },
  {
   "cell_type": "code",
   "execution_count": null,
   "metadata": {
    "id": "ioE75KH2Z9ES"
   },
   "outputs": [],
   "source": [
    "def text_summary(input_text):\n",
    "    # OpenAI 클라이언트 생성\n",
    "    client = OpenAI()\n",
    "\n",
    "    system_role = '''당신은 응급상황에 대한 텍스트에서 핵심 내용을 훌륭하게 요약해주는 어시스턴트입니다.\n",
    "    응답은 다음의 형식을 지켜주세요.\n",
    "    {\"summary\": \\\"텍스트 요약\\\",\n",
    "    \"keyword\" : \\\"핵심 키워드(3가지)\\\"}\n",
    "    '''\n",
    "    response = client.chat.completions.create(\n",
    "        model=\"gpt-3.5-turbo\",\n",
    "        messages=[\n",
    "            {\n",
    "                \"role\": \"system\",\n",
    "                \"content\": system_role\n",
    "            },\n",
    "            {\n",
    "                \"role\": \"user\",\n",
    "                \"content\": input_text\n",
    "            }\n",
    "        ]\n",
    "    )\n",
    "    answer = response.choices[0].message.content\n",
    "    parsed_answer = json.loads(answer)\n",
    "\n",
    "    summary = parsed_answer[\"summary\"]\n",
    "    keyword = parsed_answer[\"keyword\"]\n",
    "\n",
    "    return summary + ', ' + keyword\n"
   ]
  },
  {
   "cell_type": "markdown",
   "metadata": {
    "id": "o2Sd6mjtlsZl"
   },
   "source": [
    "* 저장된 text를 하나씩 불러와서 요약하고 다시 저장하기"
   ]
  },
  {
   "cell_type": "code",
   "execution_count": null,
   "metadata": {
    "colab": {
     "base_uri": "https://localhost:8080/",
     "height": 206
    },
    "executionInfo": {
     "elapsed": 602,
     "status": "ok",
     "timestamp": 1730526470630,
     "user": {
      "displayName": "한기영",
      "userId": "13049187003176135487"
     },
     "user_tz": -540
    },
    "id": "Lx0Ltwcyx-n4",
    "outputId": "e41d4356-573a-42d6-c9a9-dc94ce3af507"
   },
   "outputs": [
    {
     "data": {
      "application/vnd.google.colaboratory.intrinsic+json": {
       "summary": "{\n  \"name\": \"result\",\n  \"rows\": 5,\n  \"fields\": [\n    {\n      \"column\": \"filename\",\n      \"properties\": {\n        \"dtype\": \"string\",\n        \"num_unique_values\": 5,\n        \"samples\": [\n          \"audio1.mp3\",\n          \"audio2.mp3\",\n          \"audio5.mp3\"\n        ],\n        \"semantic_type\": \"\",\n        \"description\": \"\"\n      }\n    },\n    {\n      \"column\": \"text\",\n      \"properties\": {\n        \"dtype\": \"string\",\n        \"num_unique_values\": 5,\n        \"samples\": [\n          \"\\uc9c0\\uae08 \\uc544\\ube60\\uac00 \\ub118\\uc5b4\\uc84c\\uc5b4\\uc694. \\uba38\\ub9ac\\uc5d0\\uc11c \\ud53c\\uac00 \\ub098\\ub294\\ub370 \\uc228\\uc740 \\uc26c\\uace0 \\uc788\\uc5b4\\uc694. \\uc9c0\\uae08 \\ub9c9 \\uc77c\\uc5b4\\ub0ac\\uc5b4\\uc694. \\uadfc\\ub370 \\uc870\\uae08 \\uc5b4\\uc9c0\\ub7fd\\ub2e4\\uace0 \\ud558\\ub124\\uc694. \\ub124\\ub124 \\uacc4\\ub2e8\\uc5d0\\uc11c \\uad74\\ub800\\uc5b4\\uc694. \\uc9c0\\uae08\\uc740 \\ubb3c \\ub9c8\\uc2dc\\uace0 \\uc788\\ub294\\ub370 \\uc774\\uac70 \\uc751\\uae09\\uc2e4\\ub85c \\uac00\\ubd10\\uc57c \\ud560\\uae4c\\uc694? \\ud53c\\ub3c4 \\uc9c0\\uae08 \\uba38\\uc84c\\uc5b4\\uc694. \\ub124\\ub124 \\ub098\\uc774\\ub294 \\ub9c8\\ud754\\uc544\\ud649 \\uc0b4 \\uc774\\uc138\\uc694. \\uc5b4\\ub5bb\\uac8c \\ud574\\uc57c \\ud560\\uc9c0 \\ubaa8\\ub974\\uaca0\\uc5b4\\uc694.\\n\",\n          \"119\\uc8e0. \\uc81c\\uac00 \\uc9c0\\uae08 \\uc5f4\\uc774 \\uc5f4\\uc774 \\uc62c\\ub790\\uc5b4\\uc694. \\uba87 \\ub3c4\\ub0d0\\uba74\\uc740 38\\ub3c4 \\uc815\\ub3c4 \\ub3fc\\uc694. \\uba38\\ub9ac\\uac00 \\uc544\\ud504\\uace0 \\uc880 \\ub775\\ud55c \\uac83 \\uac19\\uc544\\uc694. \\uc6b0\\ud55c\\uc774 \\uc880 \\ub4e4\\uc5b4\\uc694. \\uc5b4\\ub5bb\\uac8c \\ud574\\uc57c \\ud560\\uae4c\\uc694?\\n\",\n          \"\\ud654\\uc7a5\\uc2e4\\uc5d0\\uc11c \\ubbf8\\ub044\\ub7ec\\uc6cc\\uc11c \\uc5c9\\ub369\\ubc29\\uc544\\ub97c \\ucc0d\\uc5c8\\uc5b4\\uc694. \\uadf8\\ub7ec\\uace0 \\uaf2c\\ub9ac\\ubf08\\uac00 \\uacc4\\uc18d \\uc544\\ud30c\\uc694. \\uc810\\uc810 \\uc544\\ud508 \\uac83 \\uac19\\uc740\\ub370 \\uc751\\uae09\\uc2e4\\uc744 \\uac00\\uc57c \\ud560\\uae4c\\uc694?\\n\"\n        ],\n        \"semantic_type\": \"\",\n        \"description\": \"\"\n      }\n    },\n    {\n      \"column\": \"summary\",\n      \"properties\": {\n        \"dtype\": \"object\",\n        \"num_unique_values\": 1,\n        \"samples\": [\n          \"\"\n        ],\n        \"semantic_type\": \"\",\n        \"description\": \"\"\n      }\n    }\n  ]\n}",
       "type": "dataframe",
       "variable_name": "result"
      },
      "text/html": [
       "\n",
       "  <div id=\"df-3cfe4fac-a286-4c19-9e8d-d6651d277ac9\" class=\"colab-df-container\">\n",
       "    <div>\n",
       "<style scoped>\n",
       "    .dataframe tbody tr th:only-of-type {\n",
       "        vertical-align: middle;\n",
       "    }\n",
       "\n",
       "    .dataframe tbody tr th {\n",
       "        vertical-align: top;\n",
       "    }\n",
       "\n",
       "    .dataframe thead th {\n",
       "        text-align: right;\n",
       "    }\n",
       "</style>\n",
       "<table border=\"1\" class=\"dataframe\">\n",
       "  <thead>\n",
       "    <tr style=\"text-align: right;\">\n",
       "      <th></th>\n",
       "      <th>filename</th>\n",
       "      <th>text</th>\n",
       "      <th>summary</th>\n",
       "    </tr>\n",
       "  </thead>\n",
       "  <tbody>\n",
       "    <tr>\n",
       "      <th>0</th>\n",
       "      <td>audio3.mp3</td>\n",
       "      <td>동생이 콩 가지고 놀다가 코에 들어가서 한쪽 코가 막혔어요. 아무리 빼보려 해도 안...</td>\n",
       "      <td></td>\n",
       "    </tr>\n",
       "    <tr>\n",
       "      <th>1</th>\n",
       "      <td>audio1.mp3</td>\n",
       "      <td>지금 아빠가 넘어졌어요. 머리에서 피가 나는데 숨은 쉬고 있어요. 지금 막 일어났어...</td>\n",
       "      <td></td>\n",
       "    </tr>\n",
       "    <tr>\n",
       "      <th>2</th>\n",
       "      <td>audio5.mp3</td>\n",
       "      <td>화장실에서 미끄러워서 엉덩방아를 찍었어요. 그러고 꼬리뼈가 계속 아파요. 점점 아픈...</td>\n",
       "      <td></td>\n",
       "    </tr>\n",
       "    <tr>\n",
       "      <th>3</th>\n",
       "      <td>audio4.mp3</td>\n",
       "      <td>아까 가다가 머리를 박았는데, 처음에는 괜찮다가, 지금 3시간 정도 지났는데, 머리...</td>\n",
       "      <td></td>\n",
       "    </tr>\n",
       "    <tr>\n",
       "      <th>4</th>\n",
       "      <td>audio2.mp3</td>\n",
       "      <td>119죠. 제가 지금 열이 열이 올랐어요. 몇 도냐면은 38도 정도 돼요. 머리가 ...</td>\n",
       "      <td></td>\n",
       "    </tr>\n",
       "  </tbody>\n",
       "</table>\n",
       "</div>\n",
       "    <div class=\"colab-df-buttons\">\n",
       "\n",
       "  <div class=\"colab-df-container\">\n",
       "    <button class=\"colab-df-convert\" onclick=\"convertToInteractive('df-3cfe4fac-a286-4c19-9e8d-d6651d277ac9')\"\n",
       "            title=\"Convert this dataframe to an interactive table.\"\n",
       "            style=\"display:none;\">\n",
       "\n",
       "  <svg xmlns=\"http://www.w3.org/2000/svg\" height=\"24px\" viewBox=\"0 -960 960 960\">\n",
       "    <path d=\"M120-120v-720h720v720H120Zm60-500h600v-160H180v160Zm220 220h160v-160H400v160Zm0 220h160v-160H400v160ZM180-400h160v-160H180v160Zm440 0h160v-160H620v160ZM180-180h160v-160H180v160Zm440 0h160v-160H620v160Z\"/>\n",
       "  </svg>\n",
       "    </button>\n",
       "\n",
       "  <style>\n",
       "    .colab-df-container {\n",
       "      display:flex;\n",
       "      gap: 12px;\n",
       "    }\n",
       "\n",
       "    .colab-df-convert {\n",
       "      background-color: #E8F0FE;\n",
       "      border: none;\n",
       "      border-radius: 50%;\n",
       "      cursor: pointer;\n",
       "      display: none;\n",
       "      fill: #1967D2;\n",
       "      height: 32px;\n",
       "      padding: 0 0 0 0;\n",
       "      width: 32px;\n",
       "    }\n",
       "\n",
       "    .colab-df-convert:hover {\n",
       "      background-color: #E2EBFA;\n",
       "      box-shadow: 0px 1px 2px rgba(60, 64, 67, 0.3), 0px 1px 3px 1px rgba(60, 64, 67, 0.15);\n",
       "      fill: #174EA6;\n",
       "    }\n",
       "\n",
       "    .colab-df-buttons div {\n",
       "      margin-bottom: 4px;\n",
       "    }\n",
       "\n",
       "    [theme=dark] .colab-df-convert {\n",
       "      background-color: #3B4455;\n",
       "      fill: #D2E3FC;\n",
       "    }\n",
       "\n",
       "    [theme=dark] .colab-df-convert:hover {\n",
       "      background-color: #434B5C;\n",
       "      box-shadow: 0px 1px 3px 1px rgba(0, 0, 0, 0.15);\n",
       "      filter: drop-shadow(0px 1px 2px rgba(0, 0, 0, 0.3));\n",
       "      fill: #FFFFFF;\n",
       "    }\n",
       "  </style>\n",
       "\n",
       "    <script>\n",
       "      const buttonEl =\n",
       "        document.querySelector('#df-3cfe4fac-a286-4c19-9e8d-d6651d277ac9 button.colab-df-convert');\n",
       "      buttonEl.style.display =\n",
       "        google.colab.kernel.accessAllowed ? 'block' : 'none';\n",
       "\n",
       "      async function convertToInteractive(key) {\n",
       "        const element = document.querySelector('#df-3cfe4fac-a286-4c19-9e8d-d6651d277ac9');\n",
       "        const dataTable =\n",
       "          await google.colab.kernel.invokeFunction('convertToInteractive',\n",
       "                                                    [key], {});\n",
       "        if (!dataTable) return;\n",
       "\n",
       "        const docLinkHtml = 'Like what you see? Visit the ' +\n",
       "          '<a target=\"_blank\" href=https://colab.research.google.com/notebooks/data_table.ipynb>data table notebook</a>'\n",
       "          + ' to learn more about interactive tables.';\n",
       "        element.innerHTML = '';\n",
       "        dataTable['output_type'] = 'display_data';\n",
       "        await google.colab.output.renderOutput(dataTable, element);\n",
       "        const docLink = document.createElement('div');\n",
       "        docLink.innerHTML = docLinkHtml;\n",
       "        element.appendChild(docLink);\n",
       "      }\n",
       "    </script>\n",
       "  </div>\n",
       "\n",
       "\n",
       "<div id=\"df-f7a28c7a-368f-4fa5-8a93-29d8067fa655\">\n",
       "  <button class=\"colab-df-quickchart\" onclick=\"quickchart('df-f7a28c7a-368f-4fa5-8a93-29d8067fa655')\"\n",
       "            title=\"Suggest charts\"\n",
       "            style=\"display:none;\">\n",
       "\n",
       "<svg xmlns=\"http://www.w3.org/2000/svg\" height=\"24px\"viewBox=\"0 0 24 24\"\n",
       "     width=\"24px\">\n",
       "    <g>\n",
       "        <path d=\"M19 3H5c-1.1 0-2 .9-2 2v14c0 1.1.9 2 2 2h14c1.1 0 2-.9 2-2V5c0-1.1-.9-2-2-2zM9 17H7v-7h2v7zm4 0h-2V7h2v10zm4 0h-2v-4h2v4z\"/>\n",
       "    </g>\n",
       "</svg>\n",
       "  </button>\n",
       "\n",
       "<style>\n",
       "  .colab-df-quickchart {\n",
       "      --bg-color: #E8F0FE;\n",
       "      --fill-color: #1967D2;\n",
       "      --hover-bg-color: #E2EBFA;\n",
       "      --hover-fill-color: #174EA6;\n",
       "      --disabled-fill-color: #AAA;\n",
       "      --disabled-bg-color: #DDD;\n",
       "  }\n",
       "\n",
       "  [theme=dark] .colab-df-quickchart {\n",
       "      --bg-color: #3B4455;\n",
       "      --fill-color: #D2E3FC;\n",
       "      --hover-bg-color: #434B5C;\n",
       "      --hover-fill-color: #FFFFFF;\n",
       "      --disabled-bg-color: #3B4455;\n",
       "      --disabled-fill-color: #666;\n",
       "  }\n",
       "\n",
       "  .colab-df-quickchart {\n",
       "    background-color: var(--bg-color);\n",
       "    border: none;\n",
       "    border-radius: 50%;\n",
       "    cursor: pointer;\n",
       "    display: none;\n",
       "    fill: var(--fill-color);\n",
       "    height: 32px;\n",
       "    padding: 0;\n",
       "    width: 32px;\n",
       "  }\n",
       "\n",
       "  .colab-df-quickchart:hover {\n",
       "    background-color: var(--hover-bg-color);\n",
       "    box-shadow: 0 1px 2px rgba(60, 64, 67, 0.3), 0 1px 3px 1px rgba(60, 64, 67, 0.15);\n",
       "    fill: var(--button-hover-fill-color);\n",
       "  }\n",
       "\n",
       "  .colab-df-quickchart-complete:disabled,\n",
       "  .colab-df-quickchart-complete:disabled:hover {\n",
       "    background-color: var(--disabled-bg-color);\n",
       "    fill: var(--disabled-fill-color);\n",
       "    box-shadow: none;\n",
       "  }\n",
       "\n",
       "  .colab-df-spinner {\n",
       "    border: 2px solid var(--fill-color);\n",
       "    border-color: transparent;\n",
       "    border-bottom-color: var(--fill-color);\n",
       "    animation:\n",
       "      spin 1s steps(1) infinite;\n",
       "  }\n",
       "\n",
       "  @keyframes spin {\n",
       "    0% {\n",
       "      border-color: transparent;\n",
       "      border-bottom-color: var(--fill-color);\n",
       "      border-left-color: var(--fill-color);\n",
       "    }\n",
       "    20% {\n",
       "      border-color: transparent;\n",
       "      border-left-color: var(--fill-color);\n",
       "      border-top-color: var(--fill-color);\n",
       "    }\n",
       "    30% {\n",
       "      border-color: transparent;\n",
       "      border-left-color: var(--fill-color);\n",
       "      border-top-color: var(--fill-color);\n",
       "      border-right-color: var(--fill-color);\n",
       "    }\n",
       "    40% {\n",
       "      border-color: transparent;\n",
       "      border-right-color: var(--fill-color);\n",
       "      border-top-color: var(--fill-color);\n",
       "    }\n",
       "    60% {\n",
       "      border-color: transparent;\n",
       "      border-right-color: var(--fill-color);\n",
       "    }\n",
       "    80% {\n",
       "      border-color: transparent;\n",
       "      border-right-color: var(--fill-color);\n",
       "      border-bottom-color: var(--fill-color);\n",
       "    }\n",
       "    90% {\n",
       "      border-color: transparent;\n",
       "      border-bottom-color: var(--fill-color);\n",
       "    }\n",
       "  }\n",
       "</style>\n",
       "\n",
       "  <script>\n",
       "    async function quickchart(key) {\n",
       "      const quickchartButtonEl =\n",
       "        document.querySelector('#' + key + ' button');\n",
       "      quickchartButtonEl.disabled = true;  // To prevent multiple clicks.\n",
       "      quickchartButtonEl.classList.add('colab-df-spinner');\n",
       "      try {\n",
       "        const charts = await google.colab.kernel.invokeFunction(\n",
       "            'suggestCharts', [key], {});\n",
       "      } catch (error) {\n",
       "        console.error('Error during call to suggestCharts:', error);\n",
       "      }\n",
       "      quickchartButtonEl.classList.remove('colab-df-spinner');\n",
       "      quickchartButtonEl.classList.add('colab-df-quickchart-complete');\n",
       "    }\n",
       "    (() => {\n",
       "      let quickchartButtonEl =\n",
       "        document.querySelector('#df-f7a28c7a-368f-4fa5-8a93-29d8067fa655 button');\n",
       "      quickchartButtonEl.style.display =\n",
       "        google.colab.kernel.accessAllowed ? 'block' : 'none';\n",
       "    })();\n",
       "  </script>\n",
       "</div>\n",
       "\n",
       "  <div id=\"id_8b2c9cce-58f3-4eeb-8cd3-a16363cd0bd5\">\n",
       "    <style>\n",
       "      .colab-df-generate {\n",
       "        background-color: #E8F0FE;\n",
       "        border: none;\n",
       "        border-radius: 50%;\n",
       "        cursor: pointer;\n",
       "        display: none;\n",
       "        fill: #1967D2;\n",
       "        height: 32px;\n",
       "        padding: 0 0 0 0;\n",
       "        width: 32px;\n",
       "      }\n",
       "\n",
       "      .colab-df-generate:hover {\n",
       "        background-color: #E2EBFA;\n",
       "        box-shadow: 0px 1px 2px rgba(60, 64, 67, 0.3), 0px 1px 3px 1px rgba(60, 64, 67, 0.15);\n",
       "        fill: #174EA6;\n",
       "      }\n",
       "\n",
       "      [theme=dark] .colab-df-generate {\n",
       "        background-color: #3B4455;\n",
       "        fill: #D2E3FC;\n",
       "      }\n",
       "\n",
       "      [theme=dark] .colab-df-generate:hover {\n",
       "        background-color: #434B5C;\n",
       "        box-shadow: 0px 1px 3px 1px rgba(0, 0, 0, 0.15);\n",
       "        filter: drop-shadow(0px 1px 2px rgba(0, 0, 0, 0.3));\n",
       "        fill: #FFFFFF;\n",
       "      }\n",
       "    </style>\n",
       "    <button class=\"colab-df-generate\" onclick=\"generateWithVariable('result')\"\n",
       "            title=\"Generate code using this dataframe.\"\n",
       "            style=\"display:none;\">\n",
       "\n",
       "  <svg xmlns=\"http://www.w3.org/2000/svg\" height=\"24px\"viewBox=\"0 0 24 24\"\n",
       "       width=\"24px\">\n",
       "    <path d=\"M7,19H8.4L18.45,9,17,7.55,7,17.6ZM5,21V16.75L18.45,3.32a2,2,0,0,1,2.83,0l1.4,1.43a1.91,1.91,0,0,1,.58,1.4,1.91,1.91,0,0,1-.58,1.4L9.25,21ZM18.45,9,17,7.55Zm-12,3A5.31,5.31,0,0,0,4.9,8.1,5.31,5.31,0,0,0,1,6.5,5.31,5.31,0,0,0,4.9,4.9,5.31,5.31,0,0,0,6.5,1,5.31,5.31,0,0,0,8.1,4.9,5.31,5.31,0,0,0,12,6.5,5.46,5.46,0,0,0,6.5,12Z\"/>\n",
       "  </svg>\n",
       "    </button>\n",
       "    <script>\n",
       "      (() => {\n",
       "      const buttonEl =\n",
       "        document.querySelector('#id_8b2c9cce-58f3-4eeb-8cd3-a16363cd0bd5 button.colab-df-generate');\n",
       "      buttonEl.style.display =\n",
       "        google.colab.kernel.accessAllowed ? 'block' : 'none';\n",
       "\n",
       "      buttonEl.onclick = () => {\n",
       "        google.colab.notebook.generateWithVariable('result');\n",
       "      }\n",
       "      })();\n",
       "    </script>\n",
       "  </div>\n",
       "\n",
       "    </div>\n",
       "  </div>\n"
      ],
      "text/plain": [
       "     filename                                               text summary\n",
       "0  audio3.mp3  동생이 콩 가지고 놀다가 코에 들어가서 한쪽 코가 막혔어요. 아무리 빼보려 해도 안...        \n",
       "1  audio1.mp3  지금 아빠가 넘어졌어요. 머리에서 피가 나는데 숨은 쉬고 있어요. 지금 막 일어났어...        \n",
       "2  audio5.mp3  화장실에서 미끄러워서 엉덩방아를 찍었어요. 그러고 꼬리뼈가 계속 아파요. 점점 아픈...        \n",
       "3  audio4.mp3  아까 가다가 머리를 박았는데, 처음에는 괜찮다가, 지금 3시간 정도 지났는데, 머리...        \n",
       "4  audio2.mp3  119죠. 제가 지금 열이 열이 올랐어요. 몇 도냐면은 38도 정도 돼요. 머리가 ...        "
      ]
     },
     "execution_count": 18,
     "metadata": {},
     "output_type": "execute_result"
    }
   ],
   "source": [
    "# result에 summary 열 추가\n",
    "result['summary'] = ''\n",
    "result"
   ]
  },
  {
   "cell_type": "code",
   "execution_count": null,
   "metadata": {
    "id": "PehAt7ALyW_E"
   },
   "outputs": [],
   "source": [
    "for i, t in enumerate(result['text']) :\n",
    "    input_text = t\n",
    "    summary = text_summary(input_text)\n",
    "\n",
    "    result.loc[i, 'summary'] = summary"
   ]
  },
  {
   "cell_type": "code",
   "execution_count": null,
   "metadata": {
    "colab": {
     "base_uri": "https://localhost:8080/",
     "height": 206
    },
    "executionInfo": {
     "elapsed": 5,
     "status": "ok",
     "timestamp": 1730526480623,
     "user": {
      "displayName": "한기영",
      "userId": "13049187003176135487"
     },
     "user_tz": -540
    },
    "id": "l9wMP_XyvTXF",
    "outputId": "481e9d95-4275-4b24-aa8f-b4f2dbf0c4c7"
   },
   "outputs": [
    {
     "data": {
      "application/vnd.google.colaboratory.intrinsic+json": {
       "summary": "{\n  \"name\": \"result\",\n  \"rows\": 5,\n  \"fields\": [\n    {\n      \"column\": \"filename\",\n      \"properties\": {\n        \"dtype\": \"string\",\n        \"num_unique_values\": 5,\n        \"samples\": [\n          \"audio1.mp3\",\n          \"audio2.mp3\",\n          \"audio5.mp3\"\n        ],\n        \"semantic_type\": \"\",\n        \"description\": \"\"\n      }\n    },\n    {\n      \"column\": \"text\",\n      \"properties\": {\n        \"dtype\": \"string\",\n        \"num_unique_values\": 5,\n        \"samples\": [\n          \"\\uc9c0\\uae08 \\uc544\\ube60\\uac00 \\ub118\\uc5b4\\uc84c\\uc5b4\\uc694. \\uba38\\ub9ac\\uc5d0\\uc11c \\ud53c\\uac00 \\ub098\\ub294\\ub370 \\uc228\\uc740 \\uc26c\\uace0 \\uc788\\uc5b4\\uc694. \\uc9c0\\uae08 \\ub9c9 \\uc77c\\uc5b4\\ub0ac\\uc5b4\\uc694. \\uadfc\\ub370 \\uc870\\uae08 \\uc5b4\\uc9c0\\ub7fd\\ub2e4\\uace0 \\ud558\\ub124\\uc694. \\ub124\\ub124 \\uacc4\\ub2e8\\uc5d0\\uc11c \\uad74\\ub800\\uc5b4\\uc694. \\uc9c0\\uae08\\uc740 \\ubb3c \\ub9c8\\uc2dc\\uace0 \\uc788\\ub294\\ub370 \\uc774\\uac70 \\uc751\\uae09\\uc2e4\\ub85c \\uac00\\ubd10\\uc57c \\ud560\\uae4c\\uc694? \\ud53c\\ub3c4 \\uc9c0\\uae08 \\uba38\\uc84c\\uc5b4\\uc694. \\ub124\\ub124 \\ub098\\uc774\\ub294 \\ub9c8\\ud754\\uc544\\ud649 \\uc0b4 \\uc774\\uc138\\uc694. \\uc5b4\\ub5bb\\uac8c \\ud574\\uc57c \\ud560\\uc9c0 \\ubaa8\\ub974\\uaca0\\uc5b4\\uc694.\\n\",\n          \"119\\uc8e0. \\uc81c\\uac00 \\uc9c0\\uae08 \\uc5f4\\uc774 \\uc5f4\\uc774 \\uc62c\\ub790\\uc5b4\\uc694. \\uba87 \\ub3c4\\ub0d0\\uba74\\uc740 38\\ub3c4 \\uc815\\ub3c4 \\ub3fc\\uc694. \\uba38\\ub9ac\\uac00 \\uc544\\ud504\\uace0 \\uc880 \\ub775\\ud55c \\uac83 \\uac19\\uc544\\uc694. \\uc6b0\\ud55c\\uc774 \\uc880 \\ub4e4\\uc5b4\\uc694. \\uc5b4\\ub5bb\\uac8c \\ud574\\uc57c \\ud560\\uae4c\\uc694?\\n\",\n          \"\\ud654\\uc7a5\\uc2e4\\uc5d0\\uc11c \\ubbf8\\ub044\\ub7ec\\uc6cc\\uc11c \\uc5c9\\ub369\\ubc29\\uc544\\ub97c \\ucc0d\\uc5c8\\uc5b4\\uc694. \\uadf8\\ub7ec\\uace0 \\uaf2c\\ub9ac\\ubf08\\uac00 \\uacc4\\uc18d \\uc544\\ud30c\\uc694. \\uc810\\uc810 \\uc544\\ud508 \\uac83 \\uac19\\uc740\\ub370 \\uc751\\uae09\\uc2e4\\uc744 \\uac00\\uc57c \\ud560\\uae4c\\uc694?\\n\"\n        ],\n        \"semantic_type\": \"\",\n        \"description\": \"\"\n      }\n    },\n    {\n      \"column\": \"summary\",\n      \"properties\": {\n        \"dtype\": \"string\",\n        \"num_unique_values\": 5,\n        \"samples\": [\n          \"\\ub0a8\\uc131 \\ud658\\uc790\\uac00 \\uacc4\\ub2e8\\uc5d0\\uc11c \\ub118\\uc5b4\\uc838 \\uba38\\ub9ac\\ub97c \\ub2e4\\uccd0 \\ucd9c\\ud608\\ud558\\uace0 \\uc788\\uc73c\\uba70 \\uc5b4\\uc9c0\\ub7ec\\uc6b4 \\uc99d\\uc0c1\\uc774 \\ub098\\ud0c0\\ub098\\uace0 \\uc788\\ub2e4. \\ud53c\\uac00 \\ub9ce\\uc774 \\ub098\\uc62c \\uacbd\\uc6b0 \\ucd9c\\ud608\\uc774 \\uc704\\ud5d8\\ud560 \\uc218 \\uc788\\uc73c\\ubbc0\\ub85c \\uc989\\uc2dc \\uc751\\uae09\\uc2e4\\ub85c \\uc774\\ub3d9\\ud574\\uc57c \\ud55c\\ub2e4., \\ub118\\uc5b4\\uc9d0, \\ucd9c\\ud608, \\uc751\\uae09\\uc2e4\",\n          \"\\uc751\\uae09\\uc0c1\\ud669 \\ubc1c\\uc0dd \\uc2dc 119\\uc5d0 \\uc804\\ud654\\ud55c \\ud6c4 38\\ub3c4 \\uc774\\uc0c1\\uc758 \\uc5f4\\uc774 \\uc788\\uace0 \\uba38\\ub9ac\\uac00 \\uc544\\ud504\\uba70 \\uc5b4\\uc9c0\\ub7ec\\uc6b4 \\uc99d\\uc0c1\\uc744 \\ubcf4\\uc774\\uba74 \\uc120\\ub450\\ud1b5\\uc99d \\ubc0f \\ubc1c\\uc5f4 \\uc99d\\uc0c1\\uc774 \\uc788\\uc744 \\uc218 \\uc788\\uc73c\\ubbc0\\ub85c \\uc758\\ub8cc\\uae30\\uad00\\uc744 \\ucc3e\\uc544\\uac00\\ub294 \\uac83\\uc774 \\uc911\\uc694\\ud558\\ub2e4., 119, \\uc5f4, \\uba38\\ub9ac\\uc544\\ud514\",\n          \"\\ud654\\uc7a5\\uc2e4\\uc5d0\\uc11c \\ubbf8\\ub044\\ub7ec\\uc838 \\uc5c9\\ub369\\ubc29\\uc544\\ub97c \\ucc0d\\uc5c8\\uace0 \\uaf2c\\ub9ac\\ubf08\\uac00 \\uacc4\\uc18d \\uc544\\ud30c\\uc11c \\uc810\\uc810 \\uc544\\ud514\\uc774 \\uc2ec\\ud574\\uc9c0\\ub294 \\uc0c1\\ud669\\uc785\\ub2c8\\ub2e4. \\uc751\\uae09\\uc2e4\\uc744 \\ubc29\\ubb38\\ud558\\uc5ec \\uc804\\ubb38\\uc801\\uc778 \\uc9c4\\ub2e8\\uacfc \\uce58\\ub8cc\\ub97c \\ubc1b\\ub294 \\uac83\\uc774 \\uc88b\\uc2b5\\ub2c8\\ub2e4., \\ud654\\uc7a5\\uc2e4, \\ubbf8\\ub044\\ub7ec\\uc9d0, \\uc5c9\\ub369\\ubc29\\uc544\"\n        ],\n        \"semantic_type\": \"\",\n        \"description\": \"\"\n      }\n    }\n  ]\n}",
       "type": "dataframe",
       "variable_name": "result"
      },
      "text/html": [
       "\n",
       "  <div id=\"df-09e58394-78eb-44e2-b189-2637fec20f6f\" class=\"colab-df-container\">\n",
       "    <div>\n",
       "<style scoped>\n",
       "    .dataframe tbody tr th:only-of-type {\n",
       "        vertical-align: middle;\n",
       "    }\n",
       "\n",
       "    .dataframe tbody tr th {\n",
       "        vertical-align: top;\n",
       "    }\n",
       "\n",
       "    .dataframe thead th {\n",
       "        text-align: right;\n",
       "    }\n",
       "</style>\n",
       "<table border=\"1\" class=\"dataframe\">\n",
       "  <thead>\n",
       "    <tr style=\"text-align: right;\">\n",
       "      <th></th>\n",
       "      <th>filename</th>\n",
       "      <th>text</th>\n",
       "      <th>summary</th>\n",
       "    </tr>\n",
       "  </thead>\n",
       "  <tbody>\n",
       "    <tr>\n",
       "      <th>0</th>\n",
       "      <td>audio3.mp3</td>\n",
       "      <td>동생이 콩 가지고 놀다가 코에 들어가서 한쪽 코가 막혔어요. 아무리 빼보려 해도 안...</td>\n",
       "      <td>동생이 코에 콩이 들어가서 한쪽 코가 막혔는데, 빼도 안 빠져서 고통스러워하고 있음...</td>\n",
       "    </tr>\n",
       "    <tr>\n",
       "      <th>1</th>\n",
       "      <td>audio1.mp3</td>\n",
       "      <td>지금 아빠가 넘어졌어요. 머리에서 피가 나는데 숨은 쉬고 있어요. 지금 막 일어났어...</td>\n",
       "      <td>남성 환자가 계단에서 넘어져 머리를 다쳐 출혈하고 있으며 어지러운 증상이 나타나고 ...</td>\n",
       "    </tr>\n",
       "    <tr>\n",
       "      <th>2</th>\n",
       "      <td>audio5.mp3</td>\n",
       "      <td>화장실에서 미끄러워서 엉덩방아를 찍었어요. 그러고 꼬리뼈가 계속 아파요. 점점 아픈...</td>\n",
       "      <td>화장실에서 미끄러져 엉덩방아를 찍었고 꼬리뼈가 계속 아파서 점점 아픔이 심해지는 상...</td>\n",
       "    </tr>\n",
       "    <tr>\n",
       "      <th>3</th>\n",
       "      <td>audio4.mp3</td>\n",
       "      <td>아까 가다가 머리를 박았는데, 처음에는 괜찮다가, 지금 3시간 정도 지났는데, 머리...</td>\n",
       "      <td>머리를 박아서 3시간이 지난 상태에서 머리가 어지럽고 속이 매스꺼운 증상이 나타납니...</td>\n",
       "    </tr>\n",
       "    <tr>\n",
       "      <th>4</th>\n",
       "      <td>audio2.mp3</td>\n",
       "      <td>119죠. 제가 지금 열이 열이 올랐어요. 몇 도냐면은 38도 정도 돼요. 머리가 ...</td>\n",
       "      <td>응급상황 발생 시 119에 전화한 후 38도 이상의 열이 있고 머리가 아프며 어지러...</td>\n",
       "    </tr>\n",
       "  </tbody>\n",
       "</table>\n",
       "</div>\n",
       "    <div class=\"colab-df-buttons\">\n",
       "\n",
       "  <div class=\"colab-df-container\">\n",
       "    <button class=\"colab-df-convert\" onclick=\"convertToInteractive('df-09e58394-78eb-44e2-b189-2637fec20f6f')\"\n",
       "            title=\"Convert this dataframe to an interactive table.\"\n",
       "            style=\"display:none;\">\n",
       "\n",
       "  <svg xmlns=\"http://www.w3.org/2000/svg\" height=\"24px\" viewBox=\"0 -960 960 960\">\n",
       "    <path d=\"M120-120v-720h720v720H120Zm60-500h600v-160H180v160Zm220 220h160v-160H400v160Zm0 220h160v-160H400v160ZM180-400h160v-160H180v160Zm440 0h160v-160H620v160ZM180-180h160v-160H180v160Zm440 0h160v-160H620v160Z\"/>\n",
       "  </svg>\n",
       "    </button>\n",
       "\n",
       "  <style>\n",
       "    .colab-df-container {\n",
       "      display:flex;\n",
       "      gap: 12px;\n",
       "    }\n",
       "\n",
       "    .colab-df-convert {\n",
       "      background-color: #E8F0FE;\n",
       "      border: none;\n",
       "      border-radius: 50%;\n",
       "      cursor: pointer;\n",
       "      display: none;\n",
       "      fill: #1967D2;\n",
       "      height: 32px;\n",
       "      padding: 0 0 0 0;\n",
       "      width: 32px;\n",
       "    }\n",
       "\n",
       "    .colab-df-convert:hover {\n",
       "      background-color: #E2EBFA;\n",
       "      box-shadow: 0px 1px 2px rgba(60, 64, 67, 0.3), 0px 1px 3px 1px rgba(60, 64, 67, 0.15);\n",
       "      fill: #174EA6;\n",
       "    }\n",
       "\n",
       "    .colab-df-buttons div {\n",
       "      margin-bottom: 4px;\n",
       "    }\n",
       "\n",
       "    [theme=dark] .colab-df-convert {\n",
       "      background-color: #3B4455;\n",
       "      fill: #D2E3FC;\n",
       "    }\n",
       "\n",
       "    [theme=dark] .colab-df-convert:hover {\n",
       "      background-color: #434B5C;\n",
       "      box-shadow: 0px 1px 3px 1px rgba(0, 0, 0, 0.15);\n",
       "      filter: drop-shadow(0px 1px 2px rgba(0, 0, 0, 0.3));\n",
       "      fill: #FFFFFF;\n",
       "    }\n",
       "  </style>\n",
       "\n",
       "    <script>\n",
       "      const buttonEl =\n",
       "        document.querySelector('#df-09e58394-78eb-44e2-b189-2637fec20f6f button.colab-df-convert');\n",
       "      buttonEl.style.display =\n",
       "        google.colab.kernel.accessAllowed ? 'block' : 'none';\n",
       "\n",
       "      async function convertToInteractive(key) {\n",
       "        const element = document.querySelector('#df-09e58394-78eb-44e2-b189-2637fec20f6f');\n",
       "        const dataTable =\n",
       "          await google.colab.kernel.invokeFunction('convertToInteractive',\n",
       "                                                    [key], {});\n",
       "        if (!dataTable) return;\n",
       "\n",
       "        const docLinkHtml = 'Like what you see? Visit the ' +\n",
       "          '<a target=\"_blank\" href=https://colab.research.google.com/notebooks/data_table.ipynb>data table notebook</a>'\n",
       "          + ' to learn more about interactive tables.';\n",
       "        element.innerHTML = '';\n",
       "        dataTable['output_type'] = 'display_data';\n",
       "        await google.colab.output.renderOutput(dataTable, element);\n",
       "        const docLink = document.createElement('div');\n",
       "        docLink.innerHTML = docLinkHtml;\n",
       "        element.appendChild(docLink);\n",
       "      }\n",
       "    </script>\n",
       "  </div>\n",
       "\n",
       "\n",
       "<div id=\"df-0034b9cd-fac3-43ad-afc7-2a30daa0dc27\">\n",
       "  <button class=\"colab-df-quickchart\" onclick=\"quickchart('df-0034b9cd-fac3-43ad-afc7-2a30daa0dc27')\"\n",
       "            title=\"Suggest charts\"\n",
       "            style=\"display:none;\">\n",
       "\n",
       "<svg xmlns=\"http://www.w3.org/2000/svg\" height=\"24px\"viewBox=\"0 0 24 24\"\n",
       "     width=\"24px\">\n",
       "    <g>\n",
       "        <path d=\"M19 3H5c-1.1 0-2 .9-2 2v14c0 1.1.9 2 2 2h14c1.1 0 2-.9 2-2V5c0-1.1-.9-2-2-2zM9 17H7v-7h2v7zm4 0h-2V7h2v10zm4 0h-2v-4h2v4z\"/>\n",
       "    </g>\n",
       "</svg>\n",
       "  </button>\n",
       "\n",
       "<style>\n",
       "  .colab-df-quickchart {\n",
       "      --bg-color: #E8F0FE;\n",
       "      --fill-color: #1967D2;\n",
       "      --hover-bg-color: #E2EBFA;\n",
       "      --hover-fill-color: #174EA6;\n",
       "      --disabled-fill-color: #AAA;\n",
       "      --disabled-bg-color: #DDD;\n",
       "  }\n",
       "\n",
       "  [theme=dark] .colab-df-quickchart {\n",
       "      --bg-color: #3B4455;\n",
       "      --fill-color: #D2E3FC;\n",
       "      --hover-bg-color: #434B5C;\n",
       "      --hover-fill-color: #FFFFFF;\n",
       "      --disabled-bg-color: #3B4455;\n",
       "      --disabled-fill-color: #666;\n",
       "  }\n",
       "\n",
       "  .colab-df-quickchart {\n",
       "    background-color: var(--bg-color);\n",
       "    border: none;\n",
       "    border-radius: 50%;\n",
       "    cursor: pointer;\n",
       "    display: none;\n",
       "    fill: var(--fill-color);\n",
       "    height: 32px;\n",
       "    padding: 0;\n",
       "    width: 32px;\n",
       "  }\n",
       "\n",
       "  .colab-df-quickchart:hover {\n",
       "    background-color: var(--hover-bg-color);\n",
       "    box-shadow: 0 1px 2px rgba(60, 64, 67, 0.3), 0 1px 3px 1px rgba(60, 64, 67, 0.15);\n",
       "    fill: var(--button-hover-fill-color);\n",
       "  }\n",
       "\n",
       "  .colab-df-quickchart-complete:disabled,\n",
       "  .colab-df-quickchart-complete:disabled:hover {\n",
       "    background-color: var(--disabled-bg-color);\n",
       "    fill: var(--disabled-fill-color);\n",
       "    box-shadow: none;\n",
       "  }\n",
       "\n",
       "  .colab-df-spinner {\n",
       "    border: 2px solid var(--fill-color);\n",
       "    border-color: transparent;\n",
       "    border-bottom-color: var(--fill-color);\n",
       "    animation:\n",
       "      spin 1s steps(1) infinite;\n",
       "  }\n",
       "\n",
       "  @keyframes spin {\n",
       "    0% {\n",
       "      border-color: transparent;\n",
       "      border-bottom-color: var(--fill-color);\n",
       "      border-left-color: var(--fill-color);\n",
       "    }\n",
       "    20% {\n",
       "      border-color: transparent;\n",
       "      border-left-color: var(--fill-color);\n",
       "      border-top-color: var(--fill-color);\n",
       "    }\n",
       "    30% {\n",
       "      border-color: transparent;\n",
       "      border-left-color: var(--fill-color);\n",
       "      border-top-color: var(--fill-color);\n",
       "      border-right-color: var(--fill-color);\n",
       "    }\n",
       "    40% {\n",
       "      border-color: transparent;\n",
       "      border-right-color: var(--fill-color);\n",
       "      border-top-color: var(--fill-color);\n",
       "    }\n",
       "    60% {\n",
       "      border-color: transparent;\n",
       "      border-right-color: var(--fill-color);\n",
       "    }\n",
       "    80% {\n",
       "      border-color: transparent;\n",
       "      border-right-color: var(--fill-color);\n",
       "      border-bottom-color: var(--fill-color);\n",
       "    }\n",
       "    90% {\n",
       "      border-color: transparent;\n",
       "      border-bottom-color: var(--fill-color);\n",
       "    }\n",
       "  }\n",
       "</style>\n",
       "\n",
       "  <script>\n",
       "    async function quickchart(key) {\n",
       "      const quickchartButtonEl =\n",
       "        document.querySelector('#' + key + ' button');\n",
       "      quickchartButtonEl.disabled = true;  // To prevent multiple clicks.\n",
       "      quickchartButtonEl.classList.add('colab-df-spinner');\n",
       "      try {\n",
       "        const charts = await google.colab.kernel.invokeFunction(\n",
       "            'suggestCharts', [key], {});\n",
       "      } catch (error) {\n",
       "        console.error('Error during call to suggestCharts:', error);\n",
       "      }\n",
       "      quickchartButtonEl.classList.remove('colab-df-spinner');\n",
       "      quickchartButtonEl.classList.add('colab-df-quickchart-complete');\n",
       "    }\n",
       "    (() => {\n",
       "      let quickchartButtonEl =\n",
       "        document.querySelector('#df-0034b9cd-fac3-43ad-afc7-2a30daa0dc27 button');\n",
       "      quickchartButtonEl.style.display =\n",
       "        google.colab.kernel.accessAllowed ? 'block' : 'none';\n",
       "    })();\n",
       "  </script>\n",
       "</div>\n",
       "\n",
       "  <div id=\"id_7578b3d3-6b65-4e97-9ec6-d7a0f1b84afe\">\n",
       "    <style>\n",
       "      .colab-df-generate {\n",
       "        background-color: #E8F0FE;\n",
       "        border: none;\n",
       "        border-radius: 50%;\n",
       "        cursor: pointer;\n",
       "        display: none;\n",
       "        fill: #1967D2;\n",
       "        height: 32px;\n",
       "        padding: 0 0 0 0;\n",
       "        width: 32px;\n",
       "      }\n",
       "\n",
       "      .colab-df-generate:hover {\n",
       "        background-color: #E2EBFA;\n",
       "        box-shadow: 0px 1px 2px rgba(60, 64, 67, 0.3), 0px 1px 3px 1px rgba(60, 64, 67, 0.15);\n",
       "        fill: #174EA6;\n",
       "      }\n",
       "\n",
       "      [theme=dark] .colab-df-generate {\n",
       "        background-color: #3B4455;\n",
       "        fill: #D2E3FC;\n",
       "      }\n",
       "\n",
       "      [theme=dark] .colab-df-generate:hover {\n",
       "        background-color: #434B5C;\n",
       "        box-shadow: 0px 1px 3px 1px rgba(0, 0, 0, 0.15);\n",
       "        filter: drop-shadow(0px 1px 2px rgba(0, 0, 0, 0.3));\n",
       "        fill: #FFFFFF;\n",
       "      }\n",
       "    </style>\n",
       "    <button class=\"colab-df-generate\" onclick=\"generateWithVariable('result')\"\n",
       "            title=\"Generate code using this dataframe.\"\n",
       "            style=\"display:none;\">\n",
       "\n",
       "  <svg xmlns=\"http://www.w3.org/2000/svg\" height=\"24px\"viewBox=\"0 0 24 24\"\n",
       "       width=\"24px\">\n",
       "    <path d=\"M7,19H8.4L18.45,9,17,7.55,7,17.6ZM5,21V16.75L18.45,3.32a2,2,0,0,1,2.83,0l1.4,1.43a1.91,1.91,0,0,1,.58,1.4,1.91,1.91,0,0,1-.58,1.4L9.25,21ZM18.45,9,17,7.55Zm-12,3A5.31,5.31,0,0,0,4.9,8.1,5.31,5.31,0,0,0,1,6.5,5.31,5.31,0,0,0,4.9,4.9,5.31,5.31,0,0,0,6.5,1,5.31,5.31,0,0,0,8.1,4.9,5.31,5.31,0,0,0,12,6.5,5.46,5.46,0,0,0,6.5,12Z\"/>\n",
       "  </svg>\n",
       "    </button>\n",
       "    <script>\n",
       "      (() => {\n",
       "      const buttonEl =\n",
       "        document.querySelector('#id_7578b3d3-6b65-4e97-9ec6-d7a0f1b84afe button.colab-df-generate');\n",
       "      buttonEl.style.display =\n",
       "        google.colab.kernel.accessAllowed ? 'block' : 'none';\n",
       "\n",
       "      buttonEl.onclick = () => {\n",
       "        google.colab.notebook.generateWithVariable('result');\n",
       "      }\n",
       "      })();\n",
       "    </script>\n",
       "  </div>\n",
       "\n",
       "    </div>\n",
       "  </div>\n"
      ],
      "text/plain": [
       "     filename                                               text  \\\n",
       "0  audio3.mp3  동생이 콩 가지고 놀다가 코에 들어가서 한쪽 코가 막혔어요. 아무리 빼보려 해도 안...   \n",
       "1  audio1.mp3  지금 아빠가 넘어졌어요. 머리에서 피가 나는데 숨은 쉬고 있어요. 지금 막 일어났어...   \n",
       "2  audio5.mp3  화장실에서 미끄러워서 엉덩방아를 찍었어요. 그러고 꼬리뼈가 계속 아파요. 점점 아픈...   \n",
       "3  audio4.mp3  아까 가다가 머리를 박았는데, 처음에는 괜찮다가, 지금 3시간 정도 지났는데, 머리...   \n",
       "4  audio2.mp3  119죠. 제가 지금 열이 열이 올랐어요. 몇 도냐면은 38도 정도 돼요. 머리가 ...   \n",
       "\n",
       "                                             summary  \n",
       "0  동생이 코에 콩이 들어가서 한쪽 코가 막혔는데, 빼도 안 빠져서 고통스러워하고 있음...  \n",
       "1  남성 환자가 계단에서 넘어져 머리를 다쳐 출혈하고 있으며 어지러운 증상이 나타나고 ...  \n",
       "2  화장실에서 미끄러져 엉덩방아를 찍었고 꼬리뼈가 계속 아파서 점점 아픔이 심해지는 상...  \n",
       "3  머리를 박아서 3시간이 지난 상태에서 머리가 어지럽고 속이 매스꺼운 증상이 나타납니...  \n",
       "4  응급상황 발생 시 119에 전화한 후 38도 이상의 열이 있고 머리가 아프며 어지러...  "
      ]
     },
     "execution_count": 20,
     "metadata": {},
     "output_type": "execute_result"
    }
   ],
   "source": [
    "# 저장 결과 확인하기\n",
    "result"
   ]
  },
  {
   "cell_type": "markdown",
   "metadata": {
    "id": "vVVzpn1M5XsI"
   },
   "source": [
    "### (2) 전국 병원 응급실 정보 수집\n",
    "\n"
   ]
  },
  {
   "cell_type": "markdown",
   "metadata": {
    "id": "iRho5oBx5uRC"
   },
   "source": [
    "#### 1) 인증키 발급"
   ]
  },
  {
   "cell_type": "markdown",
   "metadata": {
    "id": "2dmWFlN95xWD"
   },
   "source": [
    "* 인증키 발급 절차\n",
    "    * 1) data.go.kr 회원가입\n",
    "    * 2) 국립중앙의료원_전국 응급의료기관 정보 조회 서비스\n",
    "https://www.data.go.kr/data/15000563/openapi.do 로 이동\n",
    "    * 3) 활용신청\n",
    "        * 활용목적 : 기타(개인 학습 용도)\n",
    "        * 상세 기능선택\n",
    "            * 응급의료기관 목록정보 조회\n",
    "            * 응급의료기관 위치정보 조회\n",
    "            * 응급의료기관 기본정보 조회\n",
    "    * 4) 인증키 확인\n",
    "        * 마이페이지 > Open API > 활용신청현황\n",
    "        * [승인] 국립중앙의료원_전국 응급의료기관 정보 조회 서비스\n",
    "        * 일반 인증키(Decoding) 이용"
   ]
  },
  {
   "cell_type": "markdown",
   "metadata": {
    "id": "XgO1G8WL5yQC"
   },
   "source": [
    "#### 2) 데이터 수집"
   ]
  },
  {
   "cell_type": "code",
   "execution_count": null,
   "metadata": {
    "colab": {
     "base_uri": "https://localhost:8080/",
     "height": 35
    },
    "executionInfo": {
     "elapsed": 540,
     "status": "ok",
     "timestamp": 1730181277592,
     "user": {
      "displayName": "한기영",
      "userId": "13049187003176135487"
     },
     "user_tz": -540
    },
    "id": "ci_IVQdx1wqP",
    "outputId": "f1330edc-102b-48dc-e89e-84f59370e3db"
   },
   "outputs": [
    {
     "data": {
      "application/vnd.google.colaboratory.intrinsic+json": {
       "type": "string"
      },
      "text/plain": [
       "'/content/drive/MyDrive/project6_2/'"
      ]
     },
     "execution_count": 86,
     "metadata": {},
     "output_type": "execute_result"
    }
   ],
   "source": [
    "# path 확인\n",
    "path"
   ]
  },
  {
   "cell_type": "code",
   "execution_count": null,
   "metadata": {
    "colab": {
     "base_uri": "https://localhost:8080/"
    },
    "executionInfo": {
     "elapsed": 2227,
     "status": "ok",
     "timestamp": 1730182627072,
     "user": {
      "displayName": "한기영",
      "userId": "13049187003176135487"
     },
     "user_tz": -540
    },
    "id": "cB8B-nv75XsI",
    "outputId": "97f6c3ff-b23d-42f6-9d33-39950ae4abb7"
   },
   "outputs": [
    {
     "name": "stdout",
     "output_type": "stream",
     "text": [
      "<Response [200]>\n"
     ]
    }
   ],
   "source": [
    "# 응급실 데이터 수집하기\n",
    "\n",
    "url = 'http://apis.data.go.kr/B552657/ErmctInfoInqireService/getEgytListInfoInqire'\n",
    "serviceKey = 'iPNPiMT14DMTyAInj8Infw+C4s0a8RuazywUYiQf4m6fT7I1clyKLDaZp8XkGs1drKu2ID1vX6gMDrByYFPGXg=='  # 여러분의 일반 인증키(Decoding)\n",
    "\n",
    "params = {\n",
    "    'serviceKey': serviceKey,\n",
    "    'pageNo': '1', 'numOfRows': '1000',  # 전체 응급실 수가 500여개 됨. 1000개면 충분\n",
    "    'format': 'xml'\n",
    "}\n",
    "\n",
    "response = requests.get(url, params=params)\n",
    "\n",
    "# 정상 수행 되었다면 200\n",
    "print(response)"
   ]
  },
  {
   "cell_type": "code",
   "execution_count": null,
   "metadata": {
    "id": "XF55TTaP3ivP"
   },
   "outputs": [],
   "source": [
    "# response xml에서 주요 정보 찾기\n",
    "root = ET.fromstring(response.text)\n",
    "\n",
    "data = []\n",
    "\n",
    "for item in root. findall('.//item'):\n",
    "    duty_name = item.findtext('dutyName')\n",
    "    duty_addr = item.findtext('dutyAddr')\n",
    "    duty_tel1 = item.findtext('dutyTel1')\n",
    "    duty_tel3 = item.findtext('dutyTel3')\n",
    "    duty_emcls_name = item.findtext('dutyEmclsName')\n",
    "    lat = item.findtext('wgs84Lat')\n",
    "    lon = item.findtext('wgs84Lon')\n",
    "\n",
    "    data.append({\n",
    "        \"병원이름\": duty_name,\n",
    "        \"주소\": duty_addr,\n",
    "        \"응급의료기관 종류\": duty_emcls_name,\n",
    "        \"전화번호 1\": duty_tel1,\n",
    "        \"전화번호 3\": duty_tel3,\n",
    "        \"위도\": lat,\n",
    "        \"경도\": lon\n",
    "        })\n",
    "\n",
    "# 데이터프레임으로 변환\n",
    "em_df = pd.DataFrame(data)"
   ]
  },
  {
   "cell_type": "code",
   "execution_count": null,
   "metadata": {
    "id": "eUrjW3ilrr_v"
   },
   "outputs": [],
   "source": [
    "# csv 파일로 저장\n",
    "em_df.to_csv(path + '응급실정보.csv', index=False)"
   ]
  },
  {
   "cell_type": "markdown",
   "metadata": {
    "id": "Au2NrBcQgkuE"
   },
   "source": [
    "## **Mission Complete!**\n",
    "\n",
    "수고 많았습니다!"
   ]
  }
 ],
 "metadata": {
  "colab": {
   "provenance": [],
   "toc_visible": true
  },
  "kernelspec": {
   "display_name": "Python 3",
   "name": "python3"
  },
  "language_info": {
   "name": "python"
  }
 },
 "nbformat": 4,
 "nbformat_minor": 0
}
