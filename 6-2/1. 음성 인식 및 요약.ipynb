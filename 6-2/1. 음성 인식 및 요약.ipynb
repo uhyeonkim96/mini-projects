{
 "cells": [
  {
   "cell_type": "markdown",
   "metadata": {
    "id": "4p06IPOk5xil"
   },
   "source": [
    "# **응급상황 자동 인식 및 응급실 연계 서비스**\n",
    "# **단계1 : 응급상황 음성 인식 및 요약**"
   ]
  },
  {
   "cell_type": "markdown",
   "metadata": {
    "id": "HRuiqkZnuq94"
   },
   "source": [
    "## **0.미션**\n",
    "\n",
    "단계 1에서는, 응급상황의 음성을 인식해서 텍스트로 변환하고, 변환된 텍스트를 다시 요약 및 핵심키워드 도출 작업을 수행합니다.  \n",
    "이를 위해 사전학습된 모델을 API로 연결하여 활용합니다."
   ]
  },
  {
   "cell_type": "markdown",
   "metadata": {
    "id": "B-RC4OGVuq9-"
   },
   "source": [
    "### (1) 미션1\n",
    "* 음성인식 : STT(Speech-to-Text)\n",
    "    * 사용 모델 : OpenAI의 **Whisper-1**\n",
    "    * 제공받은 음성 파일과 새로 제작하는 5건 이상의 음성파일을 텍스트로 변환하고, 변환작업이 잘 되는지 확인해 봅시다."
   ]
  },
  {
   "cell_type": "markdown",
   "metadata": {
    "id": "hGGC3Ev4G9O8"
   },
   "source": [
    "### (2) 미션2\n",
    "* 텍스트 요약 및 핵심 키워드 도출\n",
    "    * 사용 모델 : OpenAI의 **GPT-3.5-turbo**\n",
    "    * 내용 요약과 주요 키워드를 도출하도록\n",
    "    프롬프트 입력과 출력을 구성하고 테스트 해 봅시다.\n",
    "\n",
    "* [추가]응급실 현황 다운로드(이 데이터는 단계3에서 필요합니다.)\n",
    "\n"
   ]
  },
  {
   "cell_type": "markdown",
   "metadata": {
    "id": "76Pw6f64d5VU"
   },
   "source": [
    "## **1.환경설정**"
   ]
  },
  {
   "cell_type": "markdown",
   "metadata": {
    "id": "1is0ZmzXeBrA"
   },
   "source": [
    "### (1) 경로 설정\n",
    "\n",
    "구글 드라이브 연결"
   ]
  },
  {
   "cell_type": "markdown",
   "metadata": {
    "id": "xUOpvAJGGJnL"
   },
   "source": [
    "#### 1) 구글 드라이브 폴더 생성\n",
    "* 새 폴더(project6_2)를 생성하고\n",
    "* 제공 받은 파일을 업로드"
   ]
  },
  {
   "cell_type": "markdown",
   "metadata": {
    "id": "4jUC5td4GLEF"
   },
   "source": [
    "#### 2) 구글 드라이브 연결"
   ]
  },
  {
   "cell_type": "code",
   "execution_count": null,
   "metadata": {
    "id": "_wX7xlPARSDj"
   },
   "outputs": [],
   "source": [
    "from google.colab import drive\n",
    "drive.mount('/content/drive')"
   ]
  },
  {
   "cell_type": "code",
   "execution_count": null,
   "metadata": {
    "id": "JhVujnYp4TJe"
   },
   "outputs": [],
   "source": [
    "path = '/content/drive/MyDrive/project6_2/'"
   ]
  },
  {
   "cell_type": "markdown",
   "metadata": {
    "id": "6aFiucu6evl_"
   },
   "source": [
    "### (2) 라이브러리"
   ]
  },
  {
   "cell_type": "markdown",
   "metadata": {
    "id": "06pvZvQPG4TO"
   },
   "source": [
    "#### 1) 필요한 라이브러리 설치"
   ]
  },
  {
   "cell_type": "markdown",
   "metadata": {
    "id": "9yH0bcskIzI3"
   },
   "source": [
    "* requirements.txt 파일의 [경로 복사]를 한 후,\n",
    "* 아래 경로에 붙여 넣기"
   ]
  },
  {
   "cell_type": "code",
   "execution_count": null,
   "metadata": {
    "id": "OQVcKO7iG38A"
   },
   "outputs": [],
   "source": [
    "# 경로 : /content/drive/MyDrive/project6_2/requirements.txt\n",
    "# 경로가 다른 경우 아래 코드의 경로 부분을 수정하세요.\n",
    "\n",
    "!pip install -r /content/drive/MyDrive/project6_2/requirements.txt"
   ]
  },
  {
   "cell_type": "markdown",
   "metadata": {
    "id": "xpXTO7gP4vyQ"
   },
   "source": [
    "#### 2) 라이브러리 로딩"
   ]
  },
  {
   "cell_type": "code",
   "execution_count": null,
   "metadata": {
    "id": "_bx5a2MBfAt2"
   },
   "outputs": [],
   "source": [
    "#필요한 라이브러리 설치 및 불러우기\n",
    "import os\n",
    "import requests\n",
    "import xml.etree.ElementTree as ET\n",
    "import pandas as pd\n",
    "import matplotlib.pyplot as plt\n",
    "import openai\n",
    "from openai import OpenAI\n",
    "import json\n",
    "\n",
    "# 더 필요한 라이브러리 추가 -------------\n",
    "\n",
    "\n"
   ]
  },
  {
   "cell_type": "markdown",
   "metadata": {
    "id": "PS5BhycUFUMI"
   },
   "source": [
    "### (3) OpenAI API Key 환경 변수 설정\n",
    "\n",
    "* 제공받은 open ai api key를 **api_key.txt** 파일에 저장합니다.\n",
    "    * (제공받은 api_key.txt 파일은 비어 있습니다.)"
   ]
  },
  {
   "cell_type": "markdown",
   "metadata": {
    "id": "KtujOwq45NgQ"
   },
   "source": [
    "* 다음 코드를 통해 환경변수로 등록 합니다."
   ]
  },
  {
   "cell_type": "code",
   "execution_count": null,
   "metadata": {
    "id": "AaZBGfeWNMRE"
   },
   "outputs": [],
   "source": [
    "def load_file(filepath):\n",
    "    with open(filepath, 'r') as file:\n",
    "        return file.readline().strip()\n",
    "\n",
    "# API 키 로드 및 환경변수 설정\n",
    "openai.api_key = load_file(path + 'api_key.txt')\n",
    "os.environ['OPENAI_API_KEY'] = openai.api_key"
   ]
  },
  {
   "cell_type": "markdown",
   "metadata": {
    "id": "0G1kftQbTuTc"
   },
   "source": [
    "* ⚠️ 아래 코드셀은, 실행해서 key가 제대로 보이는지 확인하고 결과는 삭제하세요."
   ]
  },
  {
   "cell_type": "code",
   "execution_count": null,
   "metadata": {
    "id": "GqSUhiv8wKxh"
   },
   "outputs": [],
   "source": [
    "print(os.environ['OPENAI_API_KEY'])"
   ]
  },
  {
   "cell_type": "markdown",
   "metadata": {
    "id": "emY7TgJFwrmf"
   },
   "source": [
    "## **2. 미션1 : STT**"
   ]
  },
  {
   "cell_type": "markdown",
   "metadata": {
    "id": "l4VEqdiaS6_K"
   },
   "source": [
    "### (1) 제공된 데이터 변환\n",
    "* 세부사항\n",
    "    * 사용 모델 : whisper-1\n",
    "    * 제공 받은 오디오 파일을 읽어서 텍스트로 변환시켜 봅시다.\n",
    "        * 반복문을 통해 파일 하나씩 읽어서 텍스트 변환\n",
    "        * 변환된 텍스트를 데이터 프레임에 추가\n",
    "\n",
    "|filename|text|\n",
    "|----|----|\n",
    "|audio3.mp3|어쩌구 저쩌구...급해요.|"
   ]
  },
  {
   "cell_type": "markdown",
   "metadata": {
    "id": "m82RFeKaYrn3"
   },
   "source": [
    "* 음성파일 변환"
   ]
  },
  {
   "cell_type": "code",
   "execution_count": null,
   "metadata": {
    "id": "noE0mrUkAhkW"
   },
   "outputs": [],
   "source": [
    "# 음성파일 경로 지정\n"
   ]
  },
  {
   "cell_type": "code",
   "execution_count": null,
   "metadata": {
    "collapsed": true,
    "id": "KHRaSiTgMYMt"
   },
   "outputs": [],
   "source": [
    "# OpenAI 클라이언트 생성\n",
    "client ="
   ]
  },
  {
   "cell_type": "code",
   "execution_count": null,
   "metadata": {
    "id": "ibnwMAkKNdH8"
   },
   "outputs": [],
   "source": [
    "# 위스퍼 모델 사용 : 제공된 음성파일 중 1개를 텍스트로 변환해보기\n",
    "filename = 'audio2.mp3'\n",
    "audio_file = open(audio_path + filename, \"rb\")\n",
    "transcript = client.audio.transcriptions.create(\n",
    "    file=audio_file,\n",
    "    model=\"whisper-1\",\n",
    "    language=\"ko\",\n",
    "    response_format=\"text\",\n",
    ")\n",
    "\n",
    "print(transcript, type(transcript))"
   ]
  },
  {
   "cell_type": "markdown",
   "metadata": {
    "id": "5Aey07RNYuKg"
   },
   "source": [
    "* 음성파일 변환 함수 생성"
   ]
  },
  {
   "cell_type": "code",
   "execution_count": null,
   "metadata": {
    "id": "IFYtouSsn4AI"
   },
   "outputs": [],
   "source": [
    "def audio_to_text(audio_path, filename):\n",
    "    # OpenAI 클라이언트 생성\n",
    "\n",
    "\n",
    "    # 오디오 파일을 읽어서, 위스퍼를 사용한 변환\n",
    "\n",
    "\n",
    "    # 결과 반환\n",
    "\n"
   ]
  },
  {
   "cell_type": "code",
   "execution_count": null,
   "metadata": {
    "id": "I0wH7MxQTTWV"
   },
   "outputs": [],
   "source": [
    "# 음성파일 이름을 리스트에 담기\n",
    "file_names = [f for f in os.listdir(audio_path) if os.path.isfile(os.path.join(audio_path, f))]\n",
    "print(file_names)"
   ]
  },
  {
   "cell_type": "code",
   "execution_count": null,
   "metadata": {
    "id": "2CZZovDCSmNc"
   },
   "outputs": [],
   "source": [
    "# 반복문을 통해, 파일 하나씩 읽어서 텍스트 변환, 변환된 텍스트를 데이터 프레임에 추가\n",
    "\n",
    "# 빈 데이터프레임 선언\n",
    "\n",
    "\n",
    "# 반복문 수행하면서 오디오 변환\n",
    "\n",
    "\n",
    "# 데이터프레임 결과 조회\n"
   ]
  },
  {
   "cell_type": "markdown",
   "metadata": {
    "id": "IUa74E7ZfQQ_"
   },
   "source": [
    "### (2) 오디오 데이터 추가 수집(제작) 및 변환\n",
    "\n",
    "* 세부사항\n",
    "    * 응급 상황에 맞는 음성 녹음하기\n",
    "        * 응급 등급별 1개 이상씩(총 5개 이상)\n",
    "    * 반복문을 통해 모든 음성 파일 데이터 변환 : STT\n",
    "        * 변환 내용은 위에서 저장한 데이터프레임에 추가\n",
    "    * 변환 후 음성 내용과 변환 결과를 비교\n"
   ]
  },
  {
   "cell_type": "code",
   "execution_count": null,
   "metadata": {
    "id": "lJy0EV-nfQja"
   },
   "outputs": [],
   "source": []
  },
  {
   "cell_type": "code",
   "execution_count": null,
   "metadata": {
    "id": "Q51noIMUfQzM"
   },
   "outputs": [],
   "source": []
  },
  {
   "cell_type": "code",
   "execution_count": null,
   "metadata": {
    "id": "2cYxVvVVfQpc"
   },
   "outputs": [],
   "source": []
  },
  {
   "cell_type": "code",
   "execution_count": null,
   "metadata": {
    "id": "lTEKap9IfQnL"
   },
   "outputs": [],
   "source": []
  },
  {
   "cell_type": "markdown",
   "metadata": {
    "id": "GL1VaDQxNT4B"
   },
   "source": [
    "## **3. 미션2 : Summary**"
   ]
  },
  {
   "cell_type": "markdown",
   "metadata": {
    "id": "7G7sHQ3rgVvQ"
   },
   "source": [
    "* 세부사항\n",
    "    * 문서요약 예제 파일을 참조하여 테스트 해 봅니다.\n",
    "    * 코드를 참조하여, 원하는 형식에 맞게 요약이 되도록 프롬프트를 구성합니다.\n",
    "        * 요약 시 중요 키워드들이 함께 도출되도록 합니다.\n",
    "        * 가능하다면, 요약 문장 길이에 제한을 둡시다.\n",
    "    * 반복문을 통해 요약하고, 결과를 데이터프레임에 추가합니다.\n",
    "        * summary 열을 추가하고, 요약 결과를 입력\n",
    "            * 요약결과와 키워드는 하나의 문자열로 붙여서 summary열에 추가"
   ]
  },
  {
   "cell_type": "markdown",
   "metadata": {
    "id": "sSI7l5O2yBj_"
   },
   "source": [
    "### (1) 문서 요약"
   ]
  },
  {
   "cell_type": "markdown",
   "metadata": {
    "id": "5Ihl3Snslpcs"
   },
   "source": [
    "* 문서 요약 예제"
   ]
  },
  {
   "cell_type": "code",
   "execution_count": null,
   "metadata": {
    "id": "3J6nqyp0jQ2q"
   },
   "outputs": [],
   "source": [
    "input_text = '''\n",
    "한국은행 총재가 \"올해 성장률이 기존 전망치 2.4%보다 낮아질 가능성이 크다\"며 \"2.2∼2.3% 정도로 떨어지지 않을까 생각한다\"고 밝혔습니다.\n",
    "이 총재는 오늘(29일) 국회 기획재정위원회 국정감사에 출석해 한은의 전망을 크게 밑돈 3분기 성장률을 바탕으로 올해 성장률 전망치가 조정될 가능성에 대해 이렇게 말했습니다.\n",
    "성장률 하락의 가장 큰 요인인 수출 감소의 배경에 대해 이 총재는 \"금액 기준으로 봐서는 수출이 안 떨어졌는데, 수량을 기준으로 떨어졌다\"며 \"자동차 파업 등 일시적 요인과 화학제품·반도체의 중국과 경쟁 등으로 수량이 안 늘어나는 것 같은데, 원인을 더 분석해봐야 할 사안\"이라고 진단했습니다.\n",
    "다음 달 28일 열릴 기준금리 결정 방향에 대해서는 \"금리 결정할 때 하나의 변수만 보지 않고 종합적으로 보는데, 우선 미국 대선과 연방준비제도 금리 결정으로 경제 상황이 어떻게 변할지 보겠다\"고 밝혔습니다.\n",
    "또 \"아울러 이후 달러가 어떻게 될지, 수출 등 내년 경제 전망과 거시안전성 정책이 부동산·가계부채에 미치는 영향 등도 고려해 결정하겠다\"고 말했습니다.\n",
    "'''\n",
    "\n",
    "system_role = '''당신은 신문기사에서 핵심을 요약하는 어시스턴트입니다.\n",
    "응답은 다음의 형식을 지켜주세요\n",
    "{\"summary\": \\\"텍스트 요약\\\"}\n",
    "'''\n",
    "\n",
    "response = client.chat.completions.create(\n",
    "    model=\"gpt-3.5-turbo\",\n",
    "    messages=[\n",
    "        {\n",
    "            \"role\": \"system\",\n",
    "            \"content\": system_role\n",
    "        },\n",
    "        {\n",
    "            \"role\": \"user\",\n",
    "            \"content\": input_text\n",
    "        }\n",
    "    ]\n",
    ")\n",
    "\n",
    "# 답변\n",
    "answer = response.choices[0].message.content\n",
    "print(answer)"
   ]
  },
  {
   "cell_type": "markdown",
   "metadata": {
    "id": "4-tmXUmNZ7Iq"
   },
   "source": [
    "* 문서 요약 함수로 생성"
   ]
  },
  {
   "cell_type": "code",
   "execution_count": null,
   "metadata": {
    "id": "ioE75KH2Z9ES"
   },
   "outputs": [],
   "source": [
    "def text_summary(input_text):\n",
    "    # OpenAI 클라이언트 생성\n",
    "\n",
    "\n",
    "    # 시스템 역할과 응답 형식 지정\n",
    "\n",
    "\n",
    "\n",
    "\n",
    "    # 입력데이터를 GPT-3.5-turbo에 전달하고 답변 받아오기\n",
    "    response = client.chat.completions.create(\n",
    "        model=\"gpt-3.5-turbo\",\n",
    "        messages=[\n",
    "            {\n",
    "                \"role\": \"system\",\n",
    "                \"content\": system_role\n",
    "            },\n",
    "            {\n",
    "                \"role\": \"user\",\n",
    "                \"content\": input_text\n",
    "            }\n",
    "        ]\n",
    "    )\n",
    "\n",
    "    # 응답 받기\n",
    "\n",
    "\n",
    "    # 응답형식을 정리하고 return\n",
    "\n"
   ]
  },
  {
   "cell_type": "markdown",
   "metadata": {
    "id": "o2Sd6mjtlsZl"
   },
   "source": [
    "* 저장된 text를 하나씩 불러와서 요약하고 다시 저장하기"
   ]
  },
  {
   "cell_type": "code",
   "execution_count": null,
   "metadata": {
    "id": "Lx0Ltwcyx-n4"
   },
   "outputs": [],
   "source": []
  },
  {
   "cell_type": "code",
   "execution_count": null,
   "metadata": {
    "id": "PehAt7ALyW_E"
   },
   "outputs": [],
   "source": []
  },
  {
   "cell_type": "code",
   "execution_count": null,
   "metadata": {
    "id": "l9wMP_XyvTXF"
   },
   "outputs": [],
   "source": []
  },
  {
   "cell_type": "markdown",
   "metadata": {
    "id": "vVVzpn1M5XsI"
   },
   "source": [
    "### (2) 전국 병원 응급실 정보 수집\n",
    "\n"
   ]
  },
  {
   "cell_type": "markdown",
   "metadata": {
    "id": "iRho5oBx5uRC"
   },
   "source": [
    "#### 1) 인증키 발급"
   ]
  },
  {
   "cell_type": "markdown",
   "metadata": {
    "id": "2dmWFlN95xWD"
   },
   "source": [
    "* 인증키 발급 절차\n",
    "    * 1) data.go.kr 회원가입\n",
    "    * 2) 국립중앙의료원_전국 응급의료기관 정보 조회 서비스\n",
    "https://www.data.go.kr/data/15000563/openapi.do 로 이동\n",
    "    * 3) 활용신청\n",
    "        * 활용목적 : 기타(개인 학습 용도)\n",
    "        * 상세 기능선택\n",
    "            * 응급의료기관 목록정보 조회\n",
    "            * 응급의료기관 위치정보 조회\n",
    "            * 응급의료기관 기본정보 조회\n",
    "    * 4) 인증키 확인\n",
    "        * 마이페이지 > Open API > 활용신청현황\n",
    "        * [승인] 국립중앙의료원_전국 응급의료기관 정보 조회 서비스\n",
    "        * 일반 인증키(Decoding) 이용"
   ]
  },
  {
   "cell_type": "markdown",
   "metadata": {
    "id": "XgO1G8WL5yQC"
   },
   "source": [
    "#### 2) 데이터 수집"
   ]
  },
  {
   "cell_type": "code",
   "execution_count": null,
   "metadata": {
    "id": "ci_IVQdx1wqP"
   },
   "outputs": [],
   "source": [
    "# path 확인\n",
    "path"
   ]
  },
  {
   "cell_type": "code",
   "execution_count": null,
   "metadata": {
    "id": "cB8B-nv75XsI"
   },
   "outputs": [],
   "source": [
    "# 응급실 데이터 수집하기\n",
    "\n",
    "url =\n",
    "serviceKey =      # 여러분의 일반 인증키(Decoding)\n",
    "\n",
    "params = {\n",
    "    'serviceKey': serviceKey,\n",
    "    'pageNo': '1', 'numOfRows': '1000',  # 전체 응급실 수가 500여개 됨. 1000개면 충분\n",
    "    'format': 'xml'\n",
    "}\n",
    "\n",
    "response = requests.get(url, params = params)\n",
    "\n",
    "# 정상 수행 되었다면 200\n",
    "print(response)"
   ]
  },
  {
   "cell_type": "code",
   "execution_count": null,
   "metadata": {
    "id": "XF55TTaP3ivP"
   },
   "outputs": [],
   "source": [
    "# response xml에서 주요 정보 찾기\n",
    "root = ET.fromstring(response.text)\n",
    "\n",
    "data = []\n",
    "\n",
    "for item in root. findall('.//item'):\n",
    "    duty_name = item.findtext('dutyName')\n",
    "    duty_addr = item.findtext('dutyAddr')\n",
    "    # 필요한 정보 추가\n",
    "\n",
    "\n",
    "    # 빈 리스트 data에 딕시너리 형태({'칼럼이름':값, ...})로 저장(추가)\n",
    "\n",
    "\n",
    "# 데이터프레임으로 변환\n",
    "\n"
   ]
  },
  {
   "cell_type": "code",
   "execution_count": null,
   "metadata": {
    "id": "eUrjW3ilrr_v"
   },
   "outputs": [],
   "source": [
    "# csv 파일로 저장(인덱스 제외)\n"
   ]
  },
  {
   "cell_type": "markdown",
   "metadata": {
    "id": "Au2NrBcQgkuE"
   },
   "source": [
    "## **Mission Complete!**\n",
    "\n",
    "수고 많았습니다!"
   ]
  }
 ],
 "metadata": {
  "colab": {
   "provenance": [],
   "toc_visible": true
  },
  "kernelspec": {
   "display_name": "Python 3",
   "name": "python3"
  },
  "language_info": {
   "name": "python"
  }
 },
 "nbformat": 4,
 "nbformat_minor": 0
}
